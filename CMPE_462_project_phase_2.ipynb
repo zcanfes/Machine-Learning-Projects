{
  "nbformat": 4,
  "nbformat_minor": 0,
  "metadata": {
    "colab": {
      "name": "CMPE 462 - Assignment 2.ipynb",
      "provenance": [],
      "collapsed_sections": []
    },
    "kernelspec": {
      "name": "python3",
      "display_name": "Python 3"
    },
    "language_info": {
      "name": "python"
    }
  },
  "cells": [
    {
      "cell_type": "code",
      "source": [
        "n1 = np.random.normal((0, 100), 1, (500, 2))\n",
        "n2 = np.random.normal((100, 0), 1, (500, 2))\n",
        "n3 = np.random.normal((-100, 0), 1, (500, 2))\n",
        "n4 = np.random.normal((0, -100), 1, (500, 2))\n",
        "\n",
        "samples = 0.25*n1 + 0.25*n2 + 0.25*n3 + 0.25*n4"
      ],
      "metadata": {
        "id": "yPpC5WEUQ1Jm"
      },
      "execution_count": null,
      "outputs": []
    },
    {
      "cell_type": "code",
      "source": [
        "plt.scatter(samples[:, 0], samples[:, 1])"
      ],
      "metadata": {
        "colab": {
          "base_uri": "https://localhost:8080/",
          "height": 280
        },
        "id": "lvvFE1WXRmS7",
        "outputId": "614de720-641e-46f9-e279-30cefb355c97"
      },
      "execution_count": null,
      "outputs": [
        {
          "output_type": "execute_result",
          "data": {
            "text/plain": [
              "<matplotlib.collections.PathCollection at 0x7f42f8026110>"
            ]
          },
          "metadata": {},
          "execution_count": 15
        },
        {
          "output_type": "display_data",
          "data": {
            "text/plain": [
              "<Figure size 432x288 with 1 Axes>"
            ],
            "image/png": "[encoded data removed]"
          },
          "metadata": {
            "needs_background": "light"
          }
        }
      ]
    },
    {
      "cell_type": "code",
      "source": [],
      "metadata": {
        "id": "tPVaiOQfQ2rS"
      },
      "execution_count": null,
      "outputs": []
    },
    {
      "cell_type": "code",
      "source": [],
      "metadata": {
        "id": "9TJpIBjXQ2oZ"
      },
      "execution_count": null,
      "outputs": []
    },
    {
      "cell_type": "markdown",
      "source": [
        "# CMPE 462 - Project Phase 1\n",
        "\n",
        "Muhammed Furkan Atasoy, 2017400216\n",
        "\n",
        "Zehranaz Canfes, 2017205138"
      ],
      "metadata": {
        "id": "1kUIV3cQOSIv"
      }
    },
    {
      "cell_type": "code",
      "source": [
        "import os\n",
        "from PIL import Image\n",
        "from natsort import natsorted\n",
        "import cv2\n",
        "import numpy as np\n",
        "import matplotlib.pyplot as plt\n",
        "from mpl_toolkits import mplot3d"
      ],
      "metadata": {
        "id": "q94FdBmr0ug-"
      },
      "execution_count": null,
      "outputs": []
    },
    {
      "cell_type": "code",
      "source": [
        "!unzip phase1_files.zip -d phase1_files"
      ],
      "metadata": {
        "id": "aofsmH4pe9Za"
      },
      "execution_count": null,
      "outputs": []
    },
    {
      "cell_type": "code",
      "source": [
        "root_path = \"/content/phase1_files/phase1_files/\"\n",
        "\n",
        "train_path = root_path + \"3dshapes_train/\"\n",
        "test_path = root_path  + \"3dshapes_test/\"\n",
        "\n",
        "train_img_paths = [train_path+x for x in natsorted(os.listdir(train_path))]\n",
        "test_img_paths = [test_path+x for x in natsorted(os.listdir(test_path))]\n",
        "\n",
        "train_imgs = np.array([np.array(Image.open(img_path).convert('L')).reshape(-1) / 255. for img_path in train_img_paths])\n",
        "test_imgs = np.array([np.array(Image.open(img_path).convert('L')).reshape(-1) / 255. for img_path in test_img_paths])\n",
        "\n",
        "train_orient = np.load(root_path + \"orientations_train.npy\")\n",
        "test_orient = np.load(root_path + \"orientations_test.npy\")"
      ],
      "metadata": {
        "id": "nHTaANOg0bc4"
      },
      "execution_count": null,
      "outputs": []
    },
    {
      "cell_type": "code",
      "source": [
        "train_imgs.shape, test_imgs.shape, train_orient.shape, test_orient.shape"
      ],
      "metadata": {
        "colab": {
          "base_uri": "https://localhost:8080/"
        },
        "id": "_1MR6pJ-6UmL",
        "outputId": "5be41005-d401-4f29-cca9-e80a7b982657"
      },
      "execution_count": null,
      "outputs": [
        {
          "output_type": "execute_result",
          "data": {
            "text/plain": [
              "((10000, 4096), (1000, 4096), (10000,), (1000,))"
            ]
          },
          "metadata": {},
          "execution_count": 4
        }
      ]
    },
    {
      "cell_type": "code",
      "source": [
        "feature_count = 512\n",
        "class_count = 15"
      ],
      "metadata": {
        "id": "TI8Ig36mRyBp"
      },
      "execution_count": null,
      "outputs": []
    },
    {
      "cell_type": "markdown",
      "source": [
        "### Dimensionality Reduction Method: PCA \n",
        "\n",
        "PCA is an unsupervised method to reduce the number of features in a dataset. In the case of images, PCA can be used to compress the vector consisting of pixel values. Because it finds the directions in which data varies most, PCA is a good methodology to compress features of data. Therefore, with a smaller feature vector, our linear regression starts to work efficiently and the computational cost is reduced. \n",
        "\n",
        "The final number of features is chosen to be 512. "
      ],
      "metadata": {
        "id": "aMiIL2n3j5C0"
      }
    },
    {
      "cell_type": "code",
      "source": [
        "from sklearn.decomposition import PCA\n",
        "\n",
        "def apply_pca(train, test, n_components):\n",
        "  pca = PCA(n_components=n_components)\n",
        "  train_reduced = pca.fit_transform(train)\n",
        "  test_reduced = pca.transform(test)\n",
        "\n",
        "  return train_reduced, test_reduced"
      ],
      "metadata": {
        "id": "0icmtRJfC6MQ"
      },
      "execution_count": null,
      "outputs": []
    },
    {
      "cell_type": "code",
      "source": [
        "train_imgs_reduced, test_imgs_reduced = apply_pca(train_imgs, test_imgs, feature_count)"
      ],
      "metadata": {
        "id": "EXTz4vMn1l7y"
      },
      "execution_count": null,
      "outputs": []
    },
    {
      "cell_type": "markdown",
      "source": [
        "# Assignment 2"
      ],
      "metadata": {
        "id": "nKJREGVOemYo"
      }
    },
    {
      "cell_type": "markdown",
      "source": [
        "## 1.a)"
      ],
      "metadata": {
        "id": "VGw-027yfRn5"
      }
    },
    {
      "cell_type": "code",
      "source": [
        "from sklearn.manifold import TSNE"
      ],
      "metadata": {
        "id": "mhEGbckte3Lu"
      },
      "execution_count": null,
      "outputs": []
    },
    {
      "cell_type": "code",
      "source": [
        "train_imgs_tsne = TSNE(n_components=2, learning_rate='auto', init='random').fit_transform(train_imgs)\n",
        "train_imgs_tsne.shape"
      ],
      "metadata": {
        "colab": {
          "base_uri": "https://localhost:8080/"
        },
        "id": "dqdrLNxTeuep",
        "outputId": "b3980ce0-2215-4bca-9da5-43f2745bd73e"
      },
      "execution_count": null,
      "outputs": [
        {
          "output_type": "execute_result",
          "data": {
            "text/plain": [
              "(10000, 2)"
            ]
          },
          "metadata": {},
          "execution_count": 9
        }
      ]
    },
    {
      "cell_type": "code",
      "source": [
        "def preprocess_labels(labels):\n",
        "  # convert to class numbers from 0 to 14\n",
        "  step_size = 4.28571429 # step size between orientations\n",
        "  labels = np.round((labels+30) / step_size).astype(int)\n",
        "\n",
        "  return labels"
      ],
      "metadata": {
        "id": "uDWj4EjR5vzL"
      },
      "execution_count": null,
      "outputs": []
    },
    {
      "cell_type": "code",
      "source": [
        "plt.scatter(train_imgs_tsne[:, 0], train_imgs_tsne[:, 1], c=preprocess_labels(train_orient))"
      ],
      "metadata": {
        "colab": {
          "base_uri": "https://localhost:8080/",
          "height": 280
        },
        "id": "Ad9WTMC_rbth",
        "outputId": "db96b843-5fd3-44d0-cb8c-97035194adf8"
      },
      "execution_count": null,
      "outputs": [
        {
          "output_type": "execute_result",
          "data": {
            "text/plain": [
              "<matplotlib.collections.PathCollection at 0x7fb53fc3e6d0>"
            ]
          },
          "metadata": {},
          "execution_count": 11
        },
        {
          "output_type": "display_data",
          "data": {
            "text/plain": [
              "<Figure size 432x288 with 1 Axes>"
            ],
            "image/png": "[encoded data removed]"
          },
          "metadata": {
            "needs_background": "light"
          }
        }
      ]
    },
    {
      "cell_type": "markdown",
      "source": [
        "It doesn't look like linearly seperable. Because the elements of the same class are apart from each other and there are the elements of other classes that doesn't allow to find a linear decision boundry that can seperate the classes. Therefore, we can easily say that we need to use non-linear classifier to get high accuracy on classification. Because logistic regression is a non-linear method, we can use it for this dataset."
      ],
      "metadata": {
        "id": "I55hVOOygoXG"
      }
    },
    {
      "cell_type": "markdown",
      "source": [
        "## 1.b)"
      ],
      "metadata": {
        "id": "P-dBwnpfrVPs"
      }
    },
    {
      "cell_type": "markdown",
      "source": [
        "### Derivation of the gradient of the loss function - $ \\nabla_w{E_{in}}$\n",
        "\n",
        "Our loss function (cross-entropy) is applied to logits $o_i(x)$ which are the outputs of the softmax function. Thus, to calculate the gradient of our loss $\\mathcal L(o_i)$ with softmax, we need to find the following:\n",
        "\n",
        "$$\\frac{\\partial \\mathcal L}{\\partial w} =  \\frac{\\partial{\\mathcal L}}{\\partial z}\\cdot \\frac{\\partial z}{\\partial w}$$ \n",
        "\n",
        "and \n",
        "\n",
        "$$\\frac{\\partial L}{\\partial z} = \\frac{\\partial L}{\\partial o_i}\\cdot \\frac{\\partial o_i}{\\partial z} $$ \n",
        "\n",
        "where $z = w^T x+ b$ as accepted in the lectures. \n",
        "\n",
        "Now, we shall first start with the gradient of the softmax function. \n",
        "\n",
        "#### a. Gradient of Softmax\n",
        "\n",
        "The softmax is defined by\n",
        "\n",
        "$$ o_i = \\frac{e^{z_i}}{\\sum_k e^{z_k}}$$ \n",
        "\n",
        "The derivative of softmax $\\frac{\\partial o_i}{\\partial z_j}$ is found by using the quotient rule. We should consider 2 cases: \n",
        "\n",
        "**Case 1:** $i=j$\n",
        "$$ \\frac{\\partial e^{z_i}}{\\partial z_j} = e^{z_j}$$\n",
        "\n",
        "$$ \\frac{\\sum_k e^{z_k}}{z_j} = e^{z_j}  $$\n",
        "$$ \\frac{\\partial o_i}{\\partial z_j}  = \\frac{\\partial \\frac{e^{z_i}}{\\sum_k e^{z_k}}}{\\partial z_j} = \\frac{e^{z_j}\\cdot \\sum_k e^{z_k} - e^{z_i}\\cdot e^{z_j}}{(\\sum_k e^{z_k})^2} \\\\ = \\frac{e^{z_j} (\\sum_k e^{z_k} -e^{z_i})}{(\\sum_k e^{z_k})^2} = \\frac{e^{z_j}}{\\sum_k e^{z_k}}\\cdot \\frac{\\sum_k e^{z_k} -e^{z_i}}{\\sum_k e^{z_k}} \\\\ \\implies \\frac{\\partial o_i}{\\partial z_j} = o_i\\cdot (1-o_i).$$ \n",
        "\n",
        "**Case 2:** $i\\neq j$ \n",
        "$$ \\frac{\\sum_k e^{z_k}}{z_j} = e^{z_j}  $$\n",
        "$$ \\frac{\\partial e^{z_i}}{\\partial z_j} = 0 $$\n",
        "\n",
        "$$ \\frac{\\partial o_i}{\\partial z_j}  = \\frac{\\partial \\frac{e^{z_i}}{\\sum_k e^{z_k}}}{\\partial z_j}  = \\frac{0 - e^{z_i}e^{z_j}}{(\\sum_k e^{z_k})^2}\\\\ = \\frac{-e^{z_i}}{\\sum_k e^{z_k}} \\cdot \\frac{e^{z_j}}{\\sum_k e^{z_k}}$$\n",
        "\n",
        "$$ \\implies \\frac{\\partial o_i}{\\partial z_j} = -o_i\\cdot o_j $$\n",
        "\n",
        "#### b. Gradient of Cross Entropy Loss\n",
        "\n",
        "Cross entropy is defined by: \n",
        "\n",
        "$$ \\mathcal L = -\\sum_i y_i\\cdot \\log(o_i) $$\n",
        "\n",
        "Since we have seen above that the gradient of the softmax depends on the value $i$, then we should seperate the derivative of the cross entropy into two parts as follows: \n",
        "\n",
        "$$ \\frac{\\partial \\mathcal L}{\\partial z_j} = \\frac{\\partial \\mathcal L}{\\partial o_i}\\cdot \\frac{\\partial o_i}{\\partial z_i} + \\sum_{j\\neq i} \\frac{\\partial \\mathcal L}{\\partial o_i}\\cdot \\frac{\\partial o_i}{z_j}$$ \n",
        "\n",
        "where \n",
        "\n",
        "$$ \\frac{\\partial \\mathcal L}{\\partial o_i} = -\\frac {y_i} {o_i}$$\n",
        "\n",
        "Therefore, \n",
        "\n",
        "$$  \\frac{\\partial \\mathcal L}{\\partial z_j} =  -\\frac {y_i} {o_i} \\cdot (o_i (1- o_i)) + \\sum_{i\\neq j} -\\frac {y_i} {o_i}\\cdot (-o_i\\ o_j) $$\n",
        "\n",
        "$$ \\frac{\\partial \\mathcal L}{\\partial z_j} = -y_j + y_j o_j+ \\sum_{i\\neq j} y_io_j = -y_i+\\sum_i y_i o_j = -y_j + o_j \\sum_i y_i$$\n",
        "\n",
        "We know that $y$ is a one hot encoded vector for the labels. Therefore,  \n",
        "$$ \\sum_i y_i = 1$$\n",
        "\n",
        "$$ \\implies \\frac{\\partial \\mathcal L}{\\partial z_j} =o_j-y_j $$\n",
        "\n",
        "#### c. Gradient of the overall loss according to $w$\n",
        "\n",
        "\n",
        "$$\\frac{\\partial \\mathcal L}{\\partial w} =  \\frac{\\partial{\\mathcal L}}{\\partial z}\\cdot \\frac{\\partial z}{\\partial w}$$ \n",
        "\n",
        "$$ \\frac{\\partial z}{\\partial w} = x $$\n",
        "\n",
        "$$ \\implies \\frac{\\partial \\mathcal L}{\\partial w} = (o-y)\\cdot x $$\n"
      ],
      "metadata": {
        "id": "RHVFYcwBE5G7"
      }
    },
    {
      "cell_type": "code",
      "source": [
        "def loss_function(n, logits, targets):\n",
        "  loss = -(np.sum(targets * np.log(logits)))/n \n",
        "  return loss"
      ],
      "metadata": {
        "id": "Fd_ffUlxfT5Y"
      },
      "execution_count": null,
      "outputs": []
    },
    {
      "cell_type": "code",
      "source": [
        "def soft_threshold(beta, lambd):\n",
        "    if beta < - lambd:\n",
        "        return beta + lambd\n",
        "    elif beta > lambd:\n",
        "        return beta - lambd\n",
        "    else: \n",
        "        return 0"
      ],
      "metadata": {
        "id": "oAyessue0ZmT"
      },
      "execution_count": null,
      "outputs": []
    },
    {
      "cell_type": "code",
      "source": [
        "def grad_function(X, n, targets, logits, regularization=False, lambd=1, weights=None):\n",
        "    if regularization == \"l2\":\n",
        "      grad = (-(np.dot(X.T,(targets - logits))) + lambd * np.sum(weights)) / n   \n",
        "    if regularization == \"l1\":\n",
        "      grad = (-(np.dot(X.T,(targets - logits))) + soft_threshold(np.sum(weights), lambd)) / n\n",
        "    else:\n",
        "      grad = -(np.dot(X.T,(targets - logits))) / n   \n",
        "\n",
        "    return grad "
      ],
      "metadata": {
        "id": "iBa9PHbNr0Nf"
      },
      "execution_count": null,
      "outputs": []
    },
    {
      "cell_type": "code",
      "source": [
        "def softmax(z):\n",
        "    logits = (np.exp(z).T / np.sum(np.exp(z),axis=1)).T \n",
        "    return logits"
      ],
      "metadata": {
        "id": "PRp0B4f7KX1B"
      },
      "execution_count": null,
      "outputs": []
    },
    {
      "cell_type": "code",
      "source": [
        "def get_one_hot_encoding(labels):\n",
        "  one_hot = np.eye(class_count)[labels]\n",
        "  return one_hot"
      ],
      "metadata": {
        "id": "Syc2iviHLpgw"
      },
      "execution_count": null,
      "outputs": []
    },
    {
      "cell_type": "code",
      "source": [
        "def train(X, y, epoch_num, lr=1, regularization=False, lambd=1):\n",
        "  weights = np.random.normal(size=(X.shape[1], y.shape[1])) / 10.\n",
        "\n",
        "  for i in range(epoch_num):\n",
        "    z = X @ weights\n",
        "    logits = softmax(z)\n",
        "\n",
        "    error = loss_function(X.shape[0], logits, y)\n",
        "    grad = grad_function(X, X.shape[0], y, logits, regularization, lambd, weights)\n",
        "    weights = weights - lr*grad\n",
        "\n",
        "    if i % 10 == 0:\n",
        "      print(\"Epoch \", i, \"Error: \", np.round(error, 3))\n",
        "  \n",
        "  return weights"
      ],
      "metadata": {
        "id": "HlvgyteePFGx"
      },
      "execution_count": null,
      "outputs": []
    },
    {
      "cell_type": "code",
      "source": [
        "def predict(X, weights):\n",
        "  z = X @ weights\n",
        "  logits = softmax(z)\n",
        "  preds = np.argmax(logits,axis=1)\n",
        "\n",
        "  return preds"
      ],
      "metadata": {
        "id": "JPE4mVf3TJHF"
      },
      "execution_count": null,
      "outputs": []
    },
    {
      "cell_type": "code",
      "source": [
        "def acc_metric(targets, preds):\n",
        "  correct = np.sum(targets == preds)\n",
        "  acc = correct / len(targets)\n",
        "\n",
        "  return acc"
      ],
      "metadata": {
        "id": "A1Lh0lTCmX8B"
      },
      "execution_count": null,
      "outputs": []
    },
    {
      "cell_type": "markdown",
      "source": [
        "## 1.c)"
      ],
      "metadata": {
        "id": "ir44VjMQGm2S"
      }
    },
    {
      "cell_type": "code",
      "source": [
        "def cross_validation_error(train_imgs, train_orient, k, epoch, params=[], tune=\"learning_rate\", lr=None, lambd=None,  regularization=False):\n",
        "  step = int(train_imgs.shape[0] / k)\n",
        "  acc_dict = {}\n",
        "    \n",
        "  \n",
        "  for param in params:\n",
        "    print(f\"{tune}: \", param)\n",
        "\n",
        "    accs = []\n",
        "    for i in range(k):\n",
        "      print(\"Fold \",i)\n",
        "      print(\"--------------------------\")\n",
        "\n",
        "      X_val = train_imgs[step*i: step*(i+1)]\n",
        "      X_val = np.append(X_val, np.ones((X_val.shape[0], 1)), axis=1) # add bias\n",
        "\n",
        "      X_train = np.concatenate((train_imgs[:step*i], train_imgs[step*(i+1):]), axis=0)\n",
        "      X_train = np.append(X_train, np.ones((X_train.shape[0], 1)), axis=1) # add bias\n",
        "\n",
        "      y_val = train_orient[step*i: step*(i+1)]\n",
        "      y_val = preprocess_labels(y_val)\n",
        "\n",
        "      y_train = np.concatenate((train_orient[:step*i], train_orient[step*(i+1):]), axis=0)\n",
        "      y_train = preprocess_labels(y_train)\n",
        "\n",
        "      if tune == \"learning_rate\":\n",
        "        weights = train(X_train, get_one_hot_encoding(y_train), epoch, lr=param)\n",
        "      if tune == \"lambda\":\n",
        "        weights = train(X_train, get_one_hot_encoding(y_train), epoch, lr, regularization=regularization, lambd=param)\n",
        "\n",
        "      preds = predict(X_val, weights)\n",
        "      acc = acc_metric(y_val, preds)\n",
        "\n",
        "      print(\"Accuracy:\", acc)\n",
        "      accs.append(acc)\n",
        "\n",
        "    acc_dict[param] = np.mean(accs)\n",
        "  \n",
        "  return acc_dict"
      ],
      "metadata": {
        "id": "60qW0p6GHYKe"
      },
      "execution_count": null,
      "outputs": []
    },
    {
      "cell_type": "code",
      "source": [
        "epoch = 100\n",
        "learning_rates = np.arange(0.1, 1.1, 0.1)\n",
        "k = 5\n",
        "\n",
        "acc_dict = cross_validation_error(train_imgs_reduced, train_orient, k, epoch, params=learning_rates, tune=\"learning_rate\")"
      ],
      "metadata": {
        "colab": {
          "base_uri": "https://localhost:8080/"
        },
        "id": "WmcXh-dFTo3y",
        "outputId": "62295bff-1abb-4295-8b5c-337608e810f4"
      },
      "execution_count": null,
      "outputs": [
        {
          "output_type": "stream",
          "name": "stdout",
          "text": [
            "learning_rate:  0.1\n",
            "Fold  0\n",
            "--------------------------\n",
            "Epoch  0 Error:  3.232\n",
            "Epoch  10 Error:  2.493\n",
            "Epoch  20 Error:  2.199\n",
            "Epoch  30 Error:  1.98\n",
            "Epoch  40 Error:  1.807\n",
            "Epoch  50 Error:  1.664\n",
            "Epoch  60 Error:  1.545\n",
            "Epoch  70 Error:  1.443\n",
            "Epoch  80 Error:  1.354\n",
            "Epoch  90 Error:  1.276\n",
            "Accuracy: 0.8545\n",
            "Fold  1\n",
            "--------------------------\n",
            "Epoch  0 Error:  3.262\n",
            "Epoch  10 Error:  2.372\n",
            "Epoch  20 Error:  2.108\n",
            "Epoch  30 Error:  1.909\n",
            "Epoch  40 Error:  1.75\n",
            "Epoch  50 Error:  1.618\n",
            "Epoch  60 Error:  1.506\n",
            "Epoch  70 Error:  1.41\n",
            "Epoch  80 Error:  1.326\n",
            "Epoch  90 Error:  1.252\n",
            "Accuracy: 0.799\n",
            "Fold  2\n",
            "--------------------------\n",
            "Epoch  0 Error:  3.135\n",
            "Epoch  10 Error:  2.419\n",
            "Epoch  20 Error:  2.146\n",
            "Epoch  30 Error:  1.941\n",
            "Epoch  40 Error:  1.777\n",
            "Epoch  50 Error:  1.642\n",
            "Epoch  60 Error:  1.527\n",
            "Epoch  70 Error:  1.428\n",
            "Epoch  80 Error:  1.342\n",
            "Epoch  90 Error:  1.266\n",
            "Accuracy: 0.82\n",
            "Fold  3\n",
            "--------------------------\n",
            "Epoch  0 Error:  3.126\n",
            "Epoch  10 Error:  2.435\n",
            "Epoch  20 Error:  2.146\n",
            "Epoch  30 Error:  1.93\n",
            "Epoch  40 Error:  1.759\n",
            "Epoch  50 Error:  1.619\n",
            "Epoch  60 Error:  1.502\n",
            "Epoch  70 Error:  1.402\n",
            "Epoch  80 Error:  1.316\n",
            "Epoch  90 Error:  1.241\n",
            "Accuracy: 0.8455\n",
            "Fold  4\n",
            "--------------------------\n",
            "Epoch  0 Error:  3.341\n",
            "Epoch  10 Error:  2.528\n",
            "Epoch  20 Error:  2.208\n",
            "Epoch  30 Error:  1.978\n",
            "Epoch  40 Error:  1.801\n",
            "Epoch  50 Error:  1.658\n",
            "Epoch  60 Error:  1.539\n",
            "Epoch  70 Error:  1.437\n",
            "Epoch  80 Error:  1.349\n",
            "Epoch  90 Error:  1.273\n",
            "Accuracy: 0.8415\n",
            "learning_rate:  0.2\n",
            "Fold  0\n",
            "--------------------------\n",
            "Epoch  0 Error:  3.228\n",
            "Epoch  10 Error:  2.149\n",
            "Epoch  20 Error:  1.774\n",
            "Epoch  30 Error:  1.524\n",
            "Epoch  40 Error:  1.341\n",
            "Epoch  50 Error:  1.199\n",
            "Epoch  60 Error:  1.086\n",
            "Epoch  70 Error:  0.992\n",
            "Epoch  80 Error:  0.914\n",
            "Epoch  90 Error:  0.848\n",
            "Accuracy: 0.9595\n",
            "Fold  1\n",
            "--------------------------\n",
            "Epoch  0 Error:  3.254\n",
            "Epoch  10 Error:  2.143\n",
            "Epoch  20 Error:  1.765\n",
            "Epoch  30 Error:  1.512\n",
            "Epoch  40 Error:  1.328\n",
            "Epoch  50 Error:  1.186\n",
            "Epoch  60 Error:  1.073\n",
            "Epoch  70 Error:  0.98\n",
            "Epoch  80 Error:  0.903\n",
            "Epoch  90 Error:  0.838\n",
            "Accuracy: 0.9245\n",
            "Fold  2\n",
            "--------------------------\n",
            "Epoch  0 Error:  3.333\n",
            "Epoch  10 Error:  2.295\n",
            "Epoch  20 Error:  1.876\n",
            "Epoch  30 Error:  1.599\n",
            "Epoch  40 Error:  1.397\n",
            "Epoch  50 Error:  1.241\n",
            "Epoch  60 Error:  1.118\n",
            "Epoch  70 Error:  1.017\n",
            "Epoch  80 Error:  0.934\n",
            "Epoch  90 Error:  0.864\n",
            "Accuracy: 0.93\n",
            "Fold  3\n",
            "--------------------------\n",
            "Epoch  0 Error:  3.288\n",
            "Epoch  10 Error:  2.186\n",
            "Epoch  20 Error:  1.792\n",
            "Epoch  30 Error:  1.532\n",
            "Epoch  40 Error:  1.344\n",
            "Epoch  50 Error:  1.2\n",
            "Epoch  60 Error:  1.085\n",
            "Epoch  70 Error:  0.992\n",
            "Epoch  80 Error:  0.914\n",
            "Epoch  90 Error:  0.848\n",
            "Accuracy: 0.935\n",
            "Fold  4\n",
            "--------------------------\n",
            "Epoch  0 Error:  3.23\n",
            "Epoch  10 Error:  2.134\n",
            "Epoch  20 Error:  1.769\n",
            "Epoch  30 Error:  1.522\n",
            "Epoch  40 Error:  1.339\n",
            "Epoch  50 Error:  1.196\n",
            "Epoch  60 Error:  1.082\n",
            "Epoch  70 Error:  0.988\n",
            "Epoch  80 Error:  0.909\n",
            "Epoch  90 Error:  0.843\n",
            "Accuracy: 0.9535\n",
            "learning_rate:  0.30000000000000004\n",
            "Fold  0\n",
            "--------------------------\n",
            "Epoch  0 Error:  3.302\n",
            "Epoch  10 Error:  1.959\n",
            "Epoch  20 Error:  1.542\n",
            "Epoch  30 Error:  1.279\n",
            "Epoch  40 Error:  1.096\n",
            "Epoch  50 Error:  0.96\n",
            "Epoch  60 Error:  0.855\n",
            "Epoch  70 Error:  0.772\n",
            "Epoch  80 Error:  0.704\n",
            "Epoch  90 Error:  0.648\n",
            "Accuracy: 0.9765\n",
            "Fold  1\n",
            "--------------------------\n",
            "Epoch  0 Error:  3.39\n",
            "Epoch  10 Error:  1.914\n",
            "Epoch  20 Error:  1.504\n",
            "Epoch  30 Error:  1.248\n",
            "Epoch  40 Error:  1.068\n",
            "Epoch  50 Error:  0.935\n",
            "Epoch  60 Error:  0.833\n",
            "Epoch  70 Error:  0.752\n",
            "Epoch  80 Error:  0.686\n",
            "Epoch  90 Error:  0.631\n",
            "Accuracy: 0.958\n",
            "Fold  2\n",
            "--------------------------\n",
            "Epoch  0 Error:  3.242\n",
            "Epoch  10 Error:  1.911\n",
            "Epoch  20 Error:  1.5\n",
            "Epoch  30 Error:  1.244\n",
            "Epoch  40 Error:  1.065\n",
            "Epoch  50 Error:  0.933\n",
            "Epoch  60 Error:  0.831\n",
            "Epoch  70 Error:  0.75\n",
            "Epoch  80 Error:  0.684\n",
            "Epoch  90 Error:  0.63\n",
            "Accuracy: 0.9685\n",
            "Fold  3\n",
            "--------------------------\n",
            "Epoch  0 Error:  3.136\n",
            "Epoch  10 Error:  1.906\n",
            "Epoch  20 Error:  1.501\n",
            "Epoch  30 Error:  1.247\n",
            "Epoch  40 Error:  1.07\n",
            "Epoch  50 Error:  0.939\n",
            "Epoch  60 Error:  0.837\n",
            "Epoch  70 Error:  0.757\n",
            "Epoch  80 Error:  0.691\n",
            "Epoch  90 Error:  0.636\n",
            "Accuracy: 0.9605\n",
            "Fold  4\n",
            "--------------------------\n",
            "Epoch  0 Error:  2.905\n",
            "Epoch  10 Error:  1.91\n",
            "Epoch  20 Error:  1.505\n",
            "Epoch  30 Error:  1.251\n",
            "Epoch  40 Error:  1.073\n",
            "Epoch  50 Error:  0.94\n",
            "Epoch  60 Error:  0.838\n",
            "Epoch  70 Error:  0.757\n",
            "Epoch  80 Error:  0.691\n",
            "Epoch  90 Error:  0.637\n",
            "Accuracy: 0.967\n",
            "learning_rate:  0.4\n",
            "Fold  0\n",
            "--------------------------\n",
            "Epoch  0 Error:  3.289\n",
            "Epoch  10 Error:  1.775\n",
            "Epoch  20 Error:  1.332\n",
            "Epoch  30 Error:  1.074\n",
            "Epoch  40 Error:  0.903\n",
            "Epoch  50 Error:  0.782\n",
            "Epoch  60 Error:  0.691\n",
            "Epoch  70 Error:  0.62\n",
            "Epoch  80 Error:  0.564\n",
            "Epoch  90 Error:  0.518\n",
            "Accuracy: 0.9855\n",
            "Fold  1\n",
            "--------------------------\n",
            "Epoch  0 Error:  3.182\n",
            "Epoch  10 Error:  1.728\n",
            "Epoch  20 Error:  1.308\n",
            "Epoch  30 Error:  1.06\n",
            "Epoch  40 Error:  0.894\n",
            "Epoch  50 Error:  0.775\n",
            "Epoch  60 Error:  0.685\n",
            "Epoch  70 Error:  0.615\n",
            "Epoch  80 Error:  0.558\n",
            "Epoch  90 Error:  0.512\n",
            "Accuracy: 0.9745\n",
            "Fold  2\n",
            "--------------------------\n",
            "Epoch  0 Error:  3.16\n",
            "Epoch  10 Error:  1.722\n",
            "Epoch  20 Error:  1.298\n",
            "Epoch  30 Error:  1.05\n",
            "Epoch  40 Error:  0.885\n",
            "Epoch  50 Error:  0.767\n",
            "Epoch  60 Error:  0.679\n",
            "Epoch  70 Error:  0.61\n",
            "Epoch  80 Error:  0.555\n",
            "Epoch  90 Error:  0.509\n",
            "Accuracy: 0.9735\n",
            "Fold  3\n",
            "--------------------------\n",
            "Epoch  0 Error:  3.238\n",
            "Epoch  10 Error:  1.743\n",
            "Epoch  20 Error:  1.319\n",
            "Epoch  30 Error:  1.068\n",
            "Epoch  40 Error:  0.901\n",
            "Epoch  50 Error:  0.781\n",
            "Epoch  60 Error:  0.69\n",
            "Epoch  70 Error:  0.62\n",
            "Epoch  80 Error:  0.564\n",
            "Epoch  90 Error:  0.517\n",
            "Accuracy: 0.99\n",
            "Fold  4\n",
            "--------------------------\n",
            "Epoch  0 Error:  3.241\n",
            "Epoch  10 Error:  1.759\n",
            "Epoch  20 Error:  1.32\n",
            "Epoch  30 Error:  1.065\n",
            "Epoch  40 Error:  0.896\n",
            "Epoch  50 Error:  0.775\n",
            "Epoch  60 Error:  0.685\n",
            "Epoch  70 Error:  0.614\n",
            "Epoch  80 Error:  0.558\n",
            "Epoch  90 Error:  0.512\n",
            "Accuracy: 0.9855\n",
            "learning_rate:  0.5\n",
            "Fold  0\n",
            "--------------------------\n",
            "Epoch  0 Error:  3.304\n",
            "Epoch  10 Error:  1.7\n",
            "Epoch  20 Error:  1.231\n",
            "Epoch  30 Error:  0.971\n",
            "Epoch  40 Error:  0.804\n",
            "Epoch  50 Error:  0.689\n",
            "Epoch  60 Error:  0.604\n",
            "Epoch  70 Error:  0.539\n",
            "Epoch  80 Error:  0.488\n",
            "Epoch  90 Error:  0.447\n",
            "Accuracy: 0.989\n",
            "Fold  1\n",
            "--------------------------\n",
            "Epoch  0 Error:  3.181\n",
            "Epoch  10 Error:  1.596\n",
            "Epoch  20 Error:  1.161\n",
            "Epoch  30 Error:  0.921\n",
            "Epoch  40 Error:  0.767\n",
            "Epoch  50 Error:  0.659\n",
            "Epoch  60 Error:  0.58\n",
            "Epoch  70 Error:  0.519\n",
            "Epoch  80 Error:  0.47\n",
            "Epoch  90 Error:  0.431\n",
            "Accuracy: 0.986\n",
            "Fold  2\n",
            "--------------------------\n",
            "Epoch  0 Error:  3.367\n",
            "Epoch  10 Error:  1.665\n",
            "Epoch  20 Error:  1.198\n",
            "Epoch  30 Error:  0.943\n",
            "Epoch  40 Error:  0.781\n",
            "Epoch  50 Error:  0.669\n",
            "Epoch  60 Error:  0.588\n",
            "Epoch  70 Error:  0.525\n",
            "Epoch  80 Error:  0.475\n",
            "Epoch  90 Error:  0.435\n",
            "Accuracy: 0.987\n",
            "Fold  3\n",
            "--------------------------\n",
            "Epoch  0 Error:  3.176\n",
            "Epoch  10 Error:  1.61\n",
            "Epoch  20 Error:  1.174\n",
            "Epoch  30 Error:  0.932\n",
            "Epoch  40 Error:  0.776\n",
            "Epoch  50 Error:  0.667\n",
            "Epoch  60 Error:  0.587\n",
            "Epoch  70 Error:  0.525\n",
            "Epoch  80 Error:  0.476\n",
            "Epoch  90 Error:  0.436\n",
            "Accuracy: 0.9885\n",
            "Fold  4\n",
            "--------------------------\n",
            "Epoch  0 Error:  3.241\n",
            "Epoch  10 Error:  1.65\n",
            "Epoch  20 Error:  1.198\n",
            "Epoch  30 Error:  0.947\n",
            "Epoch  40 Error:  0.786\n",
            "Epoch  50 Error:  0.675\n",
            "Epoch  60 Error:  0.592\n",
            "Epoch  70 Error:  0.529\n",
            "Epoch  80 Error:  0.479\n",
            "Epoch  90 Error:  0.439\n",
            "Accuracy: 0.9845\n",
            "learning_rate:  0.6\n",
            "Fold  0\n",
            "--------------------------\n",
            "Epoch  0 Error:  3.171\n",
            "Epoch  10 Error:  1.5\n",
            "Epoch  20 Error:  1.068\n",
            "Epoch  30 Error:  0.833\n",
            "Epoch  40 Error:  0.686\n",
            "Epoch  50 Error:  0.587\n",
            "Epoch  60 Error:  0.514\n",
            "Epoch  70 Error:  0.459\n",
            "Epoch  80 Error:  0.415\n",
            "Epoch  90 Error:  0.38\n",
            "Accuracy: 0.994\n",
            "Fold  1\n",
            "--------------------------\n",
            "Epoch  0 Error:  3.206\n",
            "Epoch  10 Error:  1.485\n",
            "Epoch  20 Error:  1.057\n",
            "Epoch  30 Error:  0.827\n",
            "Epoch  40 Error:  0.683\n",
            "Epoch  50 Error:  0.584\n",
            "Epoch  60 Error:  0.512\n",
            "Epoch  70 Error:  0.457\n",
            "Epoch  80 Error:  0.413\n",
            "Epoch  90 Error:  0.378\n",
            "Accuracy: 0.9815\n",
            "Fold  2\n",
            "--------------------------\n",
            "Epoch  0 Error:  3.152\n",
            "Epoch  10 Error:  1.974\n",
            "Epoch  20 Error:  1.049\n",
            "Epoch  30 Error:  0.823\n",
            "Epoch  40 Error:  0.681\n",
            "Epoch  50 Error:  0.584\n",
            "Epoch  60 Error:  0.512\n",
            "Epoch  70 Error:  0.457\n",
            "Epoch  80 Error:  0.414\n",
            "Epoch  90 Error:  0.379\n",
            "Accuracy: 0.991\n",
            "Fold  3\n",
            "--------------------------\n",
            "Epoch  0 Error:  3.422\n",
            "Epoch  10 Error:  1.519\n",
            "Epoch  20 Error:  1.073\n",
            "Epoch  30 Error:  0.836\n",
            "Epoch  40 Error:  0.69\n",
            "Epoch  50 Error:  0.59\n",
            "Epoch  60 Error:  0.517\n",
            "Epoch  70 Error:  0.461\n",
            "Epoch  80 Error:  0.418\n",
            "Epoch  90 Error:  0.382\n",
            "Accuracy: 0.993\n",
            "Fold  4\n",
            "--------------------------\n",
            "Epoch  0 Error:  3.362\n",
            "Epoch  10 Error:  1.929\n",
            "Epoch  20 Error:  1.101\n",
            "Epoch  30 Error:  0.855\n",
            "Epoch  40 Error:  0.7\n",
            "Epoch  50 Error:  0.596\n",
            "Epoch  60 Error:  0.521\n",
            "Epoch  70 Error:  0.464\n",
            "Epoch  80 Error:  0.419\n",
            "Epoch  90 Error:  0.383\n",
            "Accuracy: 0.9905\n",
            "learning_rate:  0.7000000000000001\n",
            "Fold  0\n",
            "--------------------------\n",
            "Epoch  0 Error:  3.278\n",
            "Epoch  10 Error:  1.466\n",
            "Epoch  20 Error:  1.026\n",
            "Epoch  30 Error:  0.775\n",
            "Epoch  40 Error:  0.618\n",
            "Epoch  50 Error:  0.525\n",
            "Epoch  60 Error:  0.459\n",
            "Epoch  70 Error:  0.408\n",
            "Epoch  80 Error:  0.369\n",
            "Epoch  90 Error:  0.337\n",
            "Accuracy: 0.9955\n",
            "Fold  1\n",
            "--------------------------\n",
            "Epoch  0 Error:  3.525\n",
            "Epoch  10 Error:  1.478\n",
            "Epoch  20 Error:  1.002\n",
            "Epoch  30 Error:  0.766\n",
            "Epoch  40 Error:  0.626\n",
            "Epoch  50 Error:  0.531\n",
            "Epoch  60 Error:  0.463\n",
            "Epoch  70 Error:  0.412\n",
            "Epoch  80 Error:  0.371\n",
            "Epoch  90 Error:  0.338\n",
            "Accuracy: 0.992\n",
            "Fold  2\n",
            "--------------------------\n",
            "Epoch  0 Error:  3.116\n",
            "Epoch  10 Error:  1.802\n",
            "Epoch  20 Error:  1.057\n",
            "Epoch  30 Error:  0.798\n",
            "Epoch  40 Error:  0.615\n",
            "Epoch  50 Error:  0.517\n",
            "Epoch  60 Error:  0.451\n",
            "Epoch  70 Error:  0.401\n",
            "Epoch  80 Error:  0.362\n",
            "Epoch  90 Error:  0.331\n",
            "Accuracy: 0.995\n",
            "Fold  3\n",
            "--------------------------\n",
            "Epoch  0 Error:  3.267\n",
            "Epoch  10 Error:  1.416\n",
            "Epoch  20 Error:  0.97\n",
            "Epoch  30 Error:  0.752\n",
            "Epoch  40 Error:  0.618\n",
            "Epoch  50 Error:  0.528\n",
            "Epoch  60 Error:  0.462\n",
            "Epoch  70 Error:  0.412\n",
            "Epoch  80 Error:  0.373\n",
            "Epoch  90 Error:  0.341\n",
            "Accuracy: 0.9955\n",
            "Fold  4\n",
            "--------------------------\n",
            "Epoch  0 Error:  3.166\n",
            "Epoch  10 Error:  1.703\n",
            "Epoch  20 Error:  1.435\n",
            "Epoch  30 Error:  0.766\n",
            "Epoch  40 Error:  0.622\n",
            "Epoch  50 Error:  0.526\n",
            "Epoch  60 Error:  0.461\n",
            "Epoch  70 Error:  0.411\n",
            "Epoch  80 Error:  0.372\n",
            "Epoch  90 Error:  0.34\n",
            "Accuracy: 0.9925\n",
            "learning_rate:  0.8\n",
            "Fold  0\n",
            "--------------------------\n",
            "Epoch  0 Error:  3.213\n",
            "Epoch  10 Error:  2.357\n",
            "Epoch  20 Error:  1.002\n",
            "Epoch  30 Error:  0.736\n",
            "Epoch  40 Error:  0.561\n",
            "Epoch  50 Error:  0.472\n",
            "Epoch  60 Error:  0.425\n",
            "Epoch  70 Error:  0.385\n",
            "Epoch  80 Error:  0.347\n",
            "Epoch  90 Error:  0.317\n",
            "Accuracy: 0.9675\n",
            "Fold  1\n",
            "--------------------------\n",
            "Epoch  0 Error:  3.124\n",
            "Epoch  10 Error:  1.422\n",
            "Epoch  20 Error:  0.981\n",
            "Epoch  30 Error:  0.7\n",
            "Epoch  40 Error:  0.556\n",
            "Epoch  50 Error:  0.471\n",
            "Epoch  60 Error:  0.413\n",
            "Epoch  70 Error:  0.38\n",
            "Epoch  80 Error:  0.347\n",
            "Epoch  90 Error:  0.315\n",
            "Accuracy: 0.957\n",
            "Fold  2\n",
            "--------------------------\n",
            "Epoch  0 Error:  3.145\n",
            "Epoch  10 Error:  1.808\n",
            "Epoch  20 Error:  1.323\n",
            "Epoch  30 Error:  0.716\n",
            "Epoch  40 Error:  0.571\n",
            "Epoch  50 Error:  0.487\n",
            "Epoch  60 Error:  0.421\n",
            "Epoch  70 Error:  0.374\n",
            "Epoch  80 Error:  0.34\n",
            "Epoch  90 Error:  0.31\n",
            "Accuracy: 0.987\n",
            "Fold  3\n",
            "--------------------------\n",
            "Epoch  0 Error:  3.15\n",
            "Epoch  10 Error:  1.714\n",
            "Epoch  20 Error:  0.896\n",
            "Epoch  30 Error:  0.678\n",
            "Epoch  40 Error:  0.555\n",
            "Epoch  50 Error:  0.494\n",
            "Epoch  60 Error:  0.438\n",
            "Epoch  70 Error:  0.392\n",
            "Epoch  80 Error:  0.356\n",
            "Epoch  90 Error:  0.326\n",
            "Accuracy: 0.952\n",
            "Fold  4\n",
            "--------------------------\n",
            "Epoch  0 Error:  3.325\n",
            "Epoch  10 Error:  2.125\n",
            "Epoch  20 Error:  1.703\n",
            "Epoch  30 Error:  0.799\n",
            "Epoch  40 Error:  0.601\n",
            "Epoch  50 Error:  0.482\n",
            "Epoch  60 Error:  0.427\n",
            "Epoch  70 Error:  0.388\n",
            "Epoch  80 Error:  0.353\n",
            "Epoch  90 Error:  0.324\n",
            "Accuracy: 0.9825\n",
            "learning_rate:  0.9\n",
            "Fold  0\n",
            "--------------------------\n",
            "Epoch  0 Error:  3.247\n",
            "Epoch  10 Error:  2.069\n",
            "Epoch  20 Error:  1.601\n",
            "Epoch  30 Error:  0.735\n",
            "Epoch  40 Error:  0.556\n",
            "Epoch  50 Error:  0.44\n",
            "Epoch  60 Error:  0.389\n",
            "Epoch  70 Error:  0.363\n",
            "Epoch  80 Error:  0.337\n",
            "Epoch  90 Error:  0.306\n",
            "Accuracy: 0.9545\n",
            "Fold  1\n",
            "--------------------------\n",
            "Epoch  0 Error:  3.422\n",
            "Epoch  10 Error:  2.419\n",
            "Epoch  20 Error:  1.15\n",
            "Epoch  30 Error:  0.619\n",
            "Epoch  40 Error:  0.567\n",
            "Epoch  50 Error:  0.47\n",
            "Epoch  60 Error:  0.411\n",
            "Epoch  70 Error:  0.371\n",
            "Epoch  80 Error:  0.337\n",
            "Epoch  90 Error:  0.309\n",
            "Accuracy: 0.9325\n",
            "Fold  2\n",
            "--------------------------\n",
            "Epoch  0 Error:  3.125\n",
            "Epoch  10 Error:  1.818\n",
            "Epoch  20 Error:  1.938\n",
            "Epoch  30 Error:  0.755\n",
            "Epoch  40 Error:  0.626\n",
            "Epoch  50 Error:  0.465\n",
            "Epoch  60 Error:  0.407\n",
            "Epoch  70 Error:  0.363\n",
            "Epoch  80 Error:  0.327\n",
            "Epoch  90 Error:  0.297\n",
            "Accuracy: 0.942\n",
            "Fold  3\n",
            "--------------------------\n",
            "Epoch  0 Error:  3.198\n",
            "Epoch  10 Error:  1.463\n",
            "Epoch  20 Error:  1.024\n",
            "Epoch  30 Error:  0.688\n",
            "Epoch  40 Error:  0.549\n",
            "Epoch  50 Error:  0.486\n",
            "Epoch  60 Error:  0.43\n",
            "Epoch  70 Error:  0.387\n",
            "Epoch  80 Error:  0.351\n",
            "Epoch  90 Error:  0.323\n",
            "Accuracy: 0.943\n",
            "Fold  4\n",
            "--------------------------\n",
            "Epoch  0 Error:  2.995\n",
            "Epoch  10 Error:  2.226\n",
            "Epoch  20 Error:  2.377\n",
            "Epoch  30 Error:  0.98\n",
            "Epoch  40 Error:  0.65\n",
            "Epoch  50 Error:  0.472\n",
            "Epoch  60 Error:  0.401\n",
            "Epoch  70 Error:  0.368\n",
            "Epoch  80 Error:  0.334\n",
            "Epoch  90 Error:  0.306\n",
            "Accuracy: 0.9565\n",
            "learning_rate:  1.0\n",
            "Fold  0\n",
            "--------------------------\n",
            "Epoch  0 Error:  3.488\n",
            "Epoch  10 Error:  2.257\n",
            "Epoch  20 Error:  2.068\n",
            "Epoch  30 Error:  0.854\n",
            "Epoch  40 Error:  0.588\n",
            "Epoch  50 Error:  0.44\n",
            "Epoch  60 Error:  0.407\n",
            "Epoch  70 Error:  0.363\n",
            "Epoch  80 Error:  0.325\n",
            "Epoch  90 Error:  0.294\n",
            "Accuracy: 0.9315\n",
            "Fold  1\n",
            "--------------------------\n",
            "Epoch  0 Error:  3.232\n",
            "Epoch  10 Error:  2.151\n",
            "Epoch  20 Error:  1.095\n",
            "Epoch  30 Error:  0.706\n",
            "Epoch  40 Error:  0.573\n",
            "Epoch  50 Error:  0.425\n",
            "Epoch  60 Error:  0.42\n",
            "Epoch  70 Error:  0.362\n",
            "Epoch  80 Error:  0.33\n",
            "Epoch  90 Error:  0.304\n",
            "Accuracy: 0.926\n",
            "Fold  2\n",
            "--------------------------\n",
            "Epoch  0 Error:  3.441\n",
            "Epoch  10 Error:  2.054\n",
            "Epoch  20 Error:  2.076\n",
            "Epoch  30 Error:  0.892\n",
            "Epoch  40 Error:  0.614\n",
            "Epoch  50 Error:  0.458\n",
            "Epoch  60 Error:  0.405\n",
            "Epoch  70 Error:  0.362\n",
            "Epoch  80 Error:  0.328\n",
            "Epoch  90 Error:  0.296\n",
            "Accuracy: 0.9455\n",
            "Fold  3\n",
            "--------------------------\n",
            "Epoch  0 Error:  3.175\n",
            "Epoch  10 Error:  1.427\n",
            "Epoch  20 Error:  1.225\n",
            "Epoch  30 Error:  0.641\n",
            "Epoch  40 Error:  0.569\n",
            "Epoch  50 Error:  0.457\n",
            "Epoch  60 Error:  0.41\n",
            "Epoch  70 Error:  0.366\n",
            "Epoch  80 Error:  0.331\n",
            "Epoch  90 Error:  0.303\n",
            "Accuracy: 0.941\n",
            "Fold  4\n",
            "--------------------------\n",
            "Epoch  0 Error:  3.311\n",
            "Epoch  10 Error:  2.985\n",
            "Epoch  20 Error:  1.214\n",
            "Epoch  30 Error:  0.847\n",
            "Epoch  40 Error:  0.642\n",
            "Epoch  50 Error:  0.507\n",
            "Epoch  60 Error:  0.431\n",
            "Epoch  70 Error:  0.379\n",
            "Epoch  80 Error:  0.336\n",
            "Epoch  90 Error:  0.298\n",
            "Accuracy: 0.948\n"
          ]
        }
      ]
    },
    {
      "cell_type": "code",
      "source": [
        "acc_dict"
      ],
      "metadata": {
        "colab": {
          "base_uri": "https://localhost:8080/"
        },
        "id": "oqsWNs4brNsK",
        "outputId": "47848917-ab09-47b2-bc1c-ebfc3594a30b"
      },
      "execution_count": null,
      "outputs": [
        {
          "output_type": "execute_result",
          "data": {
            "text/plain": [
              "{0.1: 0.8321,\n",
              " 0.2: 0.9405000000000001,\n",
              " 0.30000000000000004: 0.9661,\n",
              " 0.4: 0.9818,\n",
              " 0.5: 0.9870000000000001,\n",
              " 0.6: 0.99,\n",
              " 0.7000000000000001: 0.9940999999999999,\n",
              " 0.8: 0.9692000000000001,\n",
              " 0.9: 0.9456999999999999,\n",
              " 1.0: 0.9384}"
            ]
          },
          "metadata": {},
          "execution_count": 22
        }
      ]
    },
    {
      "cell_type": "code",
      "source": [
        "lr = max(acc_dict, key=acc_dict.get)"
      ],
      "metadata": {
        "id": "YkZE78QksQQx"
      },
      "execution_count": null,
      "outputs": []
    },
    {
      "cell_type": "markdown",
      "source": [
        "## 1.d)"
      ],
      "metadata": {
        "id": "XC7SQFJFtoak"
      }
    },
    {
      "cell_type": "code",
      "source": [
        "# Train\n",
        "X_train = np.append(train_imgs_reduced, np.ones((train_imgs_reduced.shape[0], 1)), axis=1) # add bias\n",
        "y_train = preprocess_labels(train_orient)\n",
        "\n",
        "X_test = np.append(test_imgs_reduced, np.ones((test_imgs_reduced.shape[0], 1)), axis=1) # add bias\n",
        "y_test = preprocess_labels(test_orient)\n",
        "\n",
        "weights = train(X_train, get_one_hot_encoding(y_train), epoch, lr)\n",
        "\n",
        "preds = predict(X_train, weights)\n",
        "acc_train = acc_metric(y_train, preds)\n",
        "\n",
        "preds = predict(X_test, weights)\n",
        "acc_test = acc_metric(y_test, preds)\n",
        "\n",
        "print(\"---------------------------\")\n",
        "print(\"Train Accuracy:\", acc_train, \"Test Accuracy:\", acc_test)"
      ],
      "metadata": {
        "colab": {
          "base_uri": "https://localhost:8080/"
        },
        "id": "mlcR5szytXql",
        "outputId": "dd467c0f-72c1-4576-c509-47bb597d40bc"
      },
      "execution_count": null,
      "outputs": [
        {
          "output_type": "stream",
          "name": "stdout",
          "text": [
            "Epoch  0 Error:  3.336\n",
            "Epoch  10 Error:  1.819\n",
            "Epoch  20 Error:  0.965\n",
            "Epoch  30 Error:  0.74\n",
            "Epoch  40 Error:  0.606\n",
            "Epoch  50 Error:  0.517\n",
            "Epoch  60 Error:  0.453\n",
            "Epoch  70 Error:  0.404\n",
            "Epoch  80 Error:  0.366\n",
            "Epoch  90 Error:  0.335\n",
            "---------------------------\n",
            "Train Accuracy: 0.9956 Test Accuracy: 0.995\n"
          ]
        }
      ]
    },
    {
      "cell_type": "markdown",
      "source": [
        "`Train Accuracy: 0.9962 Test Accuracy: 0.996`"
      ],
      "metadata": {
        "id": "eFnSbyIzu99d"
      }
    },
    {
      "cell_type": "markdown",
      "source": [
        "## 1.e)"
      ],
      "metadata": {
        "id": "Wgvc8bbpu2En"
      }
    },
    {
      "cell_type": "markdown",
      "source": [
        "Tune lambda for L2-regularization via cross validation"
      ],
      "metadata": {
        "id": "NrxLkYK1xYDi"
      }
    },
    {
      "cell_type": "code",
      "source": [
        "epoch = 100\n",
        "k = 5\n",
        "lambdas = [0.1, 1, 2, 3, 4]\n",
        "\n",
        "acc_dict = cross_validation_error(train_imgs_reduced, train_orient, k, epoch, params=lambdas, tune=\"lambda\", lr=lr,  regularization=\"l1\")"
      ],
      "metadata": {
        "id": "LlqmE1XfufH6",
        "colab": {
          "base_uri": "https://localhost:8080/"
        },
        "outputId": "266aa504-2569-4aca-b1e0-068583f71623"
      },
      "execution_count": null,
      "outputs": [
        {
          "output_type": "stream",
          "name": "stdout",
          "text": [
            "lambda:  0.1\n",
            "Fold  0\n",
            "--------------------------\n",
            "Epoch  0 Error:  2.968\n",
            "Epoch  10 Error:  1.696\n",
            "Epoch  20 Error:  1.018\n",
            "Epoch  30 Error:  0.748\n",
            "Epoch  40 Error:  0.611\n",
            "Epoch  50 Error:  0.521\n",
            "Epoch  60 Error:  0.456\n",
            "Epoch  70 Error:  0.407\n",
            "Epoch  80 Error:  0.368\n",
            "Epoch  90 Error:  0.337\n",
            "Accuracy: 0.9935\n",
            "Fold  1\n",
            "--------------------------\n",
            "Epoch  0 Error:  3.16\n",
            "Epoch  10 Error:  1.854\n",
            "Epoch  20 Error:  0.956\n",
            "Epoch  30 Error:  0.738\n",
            "Epoch  40 Error:  0.606\n",
            "Epoch  50 Error:  0.517\n",
            "Epoch  60 Error:  0.452\n",
            "Epoch  70 Error:  0.403\n",
            "Epoch  80 Error:  0.364\n",
            "Epoch  90 Error:  0.333\n",
            "Accuracy: 0.993\n",
            "Fold  2\n",
            "--------------------------\n",
            "Epoch  0 Error:  3.284\n",
            "Epoch  10 Error:  1.663\n",
            "Epoch  20 Error:  1.03\n",
            "Epoch  30 Error:  0.788\n",
            "Epoch  40 Error:  0.607\n",
            "Epoch  50 Error:  0.512\n",
            "Epoch  60 Error:  0.447\n",
            "Epoch  70 Error:  0.398\n",
            "Epoch  80 Error:  0.36\n",
            "Epoch  90 Error:  0.329\n",
            "Accuracy: 0.993\n",
            "Fold  3\n",
            "--------------------------\n",
            "Epoch  0 Error:  3.124\n",
            "Epoch  10 Error:  1.592\n",
            "Epoch  20 Error:  0.989\n",
            "Epoch  30 Error:  0.763\n",
            "Epoch  40 Error:  0.624\n",
            "Epoch  50 Error:  0.531\n",
            "Epoch  60 Error:  0.464\n",
            "Epoch  70 Error:  0.413\n",
            "Epoch  80 Error:  0.373\n",
            "Epoch  90 Error:  0.341\n",
            "Accuracy: 0.9935\n",
            "Fold  4\n",
            "--------------------------\n",
            "Epoch  0 Error:  3.564\n",
            "Epoch  10 Error:  1.736\n",
            "Epoch  20 Error:  1.717\n",
            "Epoch  30 Error:  0.744\n",
            "Epoch  40 Error:  0.607\n",
            "Epoch  50 Error:  0.518\n",
            "Epoch  60 Error:  0.454\n",
            "Epoch  70 Error:  0.405\n",
            "Epoch  80 Error:  0.367\n",
            "Epoch  90 Error:  0.336\n",
            "Accuracy: 0.991\n",
            "lambda:  1\n",
            "Fold  0\n",
            "--------------------------\n",
            "Epoch  0 Error:  3.271\n",
            "Epoch  10 Error:  1.744\n",
            "Epoch  20 Error:  0.957\n",
            "Epoch  30 Error:  0.724\n",
            "Epoch  40 Error:  0.594\n",
            "Epoch  50 Error:  0.508\n",
            "Epoch  60 Error:  0.445\n",
            "Epoch  70 Error:  0.397\n",
            "Epoch  80 Error:  0.359\n",
            "Epoch  90 Error:  0.329\n",
            "Accuracy: 0.9975\n",
            "Fold  1\n",
            "--------------------------\n",
            "Epoch  0 Error:  3.083\n",
            "Epoch  10 Error:  1.588\n",
            "Epoch  20 Error:  0.98\n",
            "Epoch  30 Error:  0.751\n",
            "Epoch  40 Error:  0.614\n",
            "Epoch  50 Error:  0.522\n",
            "Epoch  60 Error:  0.456\n",
            "Epoch  70 Error:  0.406\n",
            "Epoch  80 Error:  0.366\n",
            "Epoch  90 Error:  0.334\n",
            "Accuracy: 0.993\n",
            "Fold  2\n",
            "--------------------------\n",
            "Epoch  0 Error:  3.327\n",
            "Epoch  10 Error:  1.487\n",
            "Epoch  20 Error:  1.145\n",
            "Epoch  30 Error:  0.802\n",
            "Epoch  40 Error:  0.626\n",
            "Epoch  50 Error:  0.525\n",
            "Epoch  60 Error:  0.457\n",
            "Epoch  70 Error:  0.406\n",
            "Epoch  80 Error:  0.366\n",
            "Epoch  90 Error:  0.334\n",
            "Accuracy: 0.996\n",
            "Fold  3\n",
            "--------------------------\n",
            "Epoch  0 Error:  2.92\n",
            "Epoch  10 Error:  1.427\n",
            "Epoch  20 Error:  1.0\n",
            "Epoch  30 Error:  0.763\n",
            "Epoch  40 Error:  0.625\n",
            "Epoch  50 Error:  0.533\n",
            "Epoch  60 Error:  0.466\n",
            "Epoch  70 Error:  0.415\n",
            "Epoch  80 Error:  0.375\n",
            "Epoch  90 Error:  0.342\n",
            "Accuracy: 0.9965\n",
            "Fold  4\n",
            "--------------------------\n",
            "Epoch  0 Error:  3.414\n",
            "Epoch  10 Error:  1.851\n",
            "Epoch  20 Error:  1.208\n",
            "Epoch  30 Error:  0.806\n",
            "Epoch  40 Error:  0.626\n",
            "Epoch  50 Error:  0.525\n",
            "Epoch  60 Error:  0.459\n",
            "Epoch  70 Error:  0.409\n",
            "Epoch  80 Error:  0.37\n",
            "Epoch  90 Error:  0.338\n",
            "Accuracy: 0.996\n",
            "lambda:  2\n",
            "Fold  0\n",
            "--------------------------\n",
            "Epoch  0 Error:  3.248\n",
            "Epoch  10 Error:  1.656\n",
            "Epoch  20 Error:  1.013\n",
            "Epoch  30 Error:  0.758\n",
            "Epoch  40 Error:  0.612\n",
            "Epoch  50 Error:  0.52\n",
            "Epoch  60 Error:  0.454\n",
            "Epoch  70 Error:  0.404\n",
            "Epoch  80 Error:  0.365\n",
            "Epoch  90 Error:  0.333\n",
            "Accuracy: 0.996\n",
            "Fold  1\n",
            "--------------------------\n",
            "Epoch  0 Error:  3.13\n",
            "Epoch  10 Error:  1.627\n",
            "Epoch  20 Error:  0.966\n",
            "Epoch  30 Error:  0.745\n",
            "Epoch  40 Error:  0.611\n",
            "Epoch  50 Error:  0.521\n",
            "Epoch  60 Error:  0.455\n",
            "Epoch  70 Error:  0.405\n",
            "Epoch  80 Error:  0.365\n",
            "Epoch  90 Error:  0.333\n",
            "Accuracy: 0.994\n",
            "Fold  2\n",
            "--------------------------\n",
            "Epoch  0 Error:  3.267\n",
            "Epoch  10 Error:  1.408\n",
            "Epoch  20 Error:  1.35\n",
            "Epoch  30 Error:  0.726\n",
            "Epoch  40 Error:  0.596\n",
            "Epoch  50 Error:  0.511\n",
            "Epoch  60 Error:  0.449\n",
            "Epoch  70 Error:  0.401\n",
            "Epoch  80 Error:  0.364\n",
            "Epoch  90 Error:  0.333\n",
            "Accuracy: 0.9935\n",
            "Fold  3\n",
            "--------------------------\n",
            "Epoch  0 Error:  3.009\n",
            "Epoch  10 Error:  1.388\n",
            "Epoch  20 Error:  0.968\n",
            "Epoch  30 Error:  0.751\n",
            "Epoch  40 Error:  0.617\n",
            "Epoch  50 Error:  0.527\n",
            "Epoch  60 Error:  0.461\n",
            "Epoch  70 Error:  0.411\n",
            "Epoch  80 Error:  0.372\n",
            "Epoch  90 Error:  0.34\n",
            "Accuracy: 0.998\n",
            "Fold  4\n",
            "--------------------------\n",
            "Epoch  0 Error:  3.41\n",
            "Epoch  10 Error:  1.972\n",
            "Epoch  20 Error:  1.035\n",
            "Epoch  30 Error:  0.804\n",
            "Epoch  40 Error:  0.62\n",
            "Epoch  50 Error:  0.521\n",
            "Epoch  60 Error:  0.456\n",
            "Epoch  70 Error:  0.406\n",
            "Epoch  80 Error:  0.367\n",
            "Epoch  90 Error:  0.336\n",
            "Accuracy: 0.9965\n",
            "lambda:  3\n",
            "Fold  0\n",
            "--------------------------\n",
            "Epoch  0 Error:  3.37\n",
            "Epoch  10 Error:  1.617\n",
            "Epoch  20 Error:  0.959\n",
            "Epoch  30 Error:  0.728\n",
            "Epoch  40 Error:  0.599\n",
            "Epoch  50 Error:  0.512\n",
            "Epoch  60 Error:  0.448\n",
            "Epoch  70 Error:  0.4\n",
            "Epoch  80 Error:  0.362\n",
            "Epoch  90 Error:  0.331\n",
            "Accuracy: 0.998\n",
            "Fold  1\n",
            "--------------------------\n",
            "Epoch  0 Error:  3.187\n",
            "Epoch  10 Error:  1.428\n",
            "Epoch  20 Error:  0.984\n",
            "Epoch  30 Error:  0.754\n",
            "Epoch  40 Error:  0.618\n",
            "Epoch  50 Error:  0.527\n",
            "Epoch  60 Error:  0.46\n",
            "Epoch  70 Error:  0.41\n",
            "Epoch  80 Error:  0.37\n",
            "Epoch  90 Error:  0.338\n",
            "Accuracy: 0.9895\n",
            "Fold  2\n",
            "--------------------------\n",
            "Epoch  0 Error:  3.172\n",
            "Epoch  10 Error:  1.567\n",
            "Epoch  20 Error:  1.123\n",
            "Epoch  30 Error:  0.784\n",
            "Epoch  40 Error:  0.622\n",
            "Epoch  50 Error:  0.523\n",
            "Epoch  60 Error:  0.456\n",
            "Epoch  70 Error:  0.406\n",
            "Epoch  80 Error:  0.367\n",
            "Epoch  90 Error:  0.335\n",
            "Accuracy: 0.993\n",
            "Fold  3\n",
            "--------------------------\n",
            "Epoch  0 Error:  3.101\n",
            "Epoch  10 Error:  1.549\n",
            "Epoch  20 Error:  0.959\n",
            "Epoch  30 Error:  0.745\n",
            "Epoch  40 Error:  0.614\n",
            "Epoch  50 Error:  0.525\n",
            "Epoch  60 Error:  0.46\n",
            "Epoch  70 Error:  0.411\n",
            "Epoch  80 Error:  0.372\n",
            "Epoch  90 Error:  0.34\n",
            "Accuracy: 0.9965\n",
            "Fold  4\n",
            "--------------------------\n",
            "Epoch  0 Error:  3.202\n",
            "Epoch  10 Error:  1.75\n",
            "Epoch  20 Error:  1.038\n",
            "Epoch  30 Error:  0.8\n",
            "Epoch  40 Error:  0.616\n",
            "Epoch  50 Error:  0.517\n",
            "Epoch  60 Error:  0.452\n",
            "Epoch  70 Error:  0.403\n",
            "Epoch  80 Error:  0.365\n",
            "Epoch  90 Error:  0.333\n",
            "Accuracy: 0.9965\n",
            "lambda:  4\n",
            "Fold  0\n",
            "--------------------------\n",
            "Epoch  0 Error:  3.344\n",
            "Epoch  10 Error:  1.712\n",
            "Epoch  20 Error:  0.993\n",
            "Epoch  30 Error:  0.761\n",
            "Epoch  40 Error:  0.617\n",
            "Epoch  50 Error:  0.526\n",
            "Epoch  60 Error:  0.46\n",
            "Epoch  70 Error:  0.41\n",
            "Epoch  80 Error:  0.371\n",
            "Epoch  90 Error:  0.339\n",
            "Accuracy: 0.996\n",
            "Fold  1\n",
            "--------------------------\n",
            "Epoch  0 Error:  3.167\n",
            "Epoch  10 Error:  1.535\n",
            "Epoch  20 Error:  0.994\n",
            "Epoch  30 Error:  0.764\n",
            "Epoch  40 Error:  0.625\n",
            "Epoch  50 Error:  0.531\n",
            "Epoch  60 Error:  0.463\n",
            "Epoch  70 Error:  0.412\n",
            "Epoch  80 Error:  0.372\n",
            "Epoch  90 Error:  0.339\n",
            "Accuracy: 0.995\n",
            "Fold  2\n",
            "--------------------------\n",
            "Epoch  0 Error:  3.118\n",
            "Epoch  10 Error:  1.685\n",
            "Epoch  20 Error:  1.062\n",
            "Epoch  30 Error:  0.764\n",
            "Epoch  40 Error:  0.606\n",
            "Epoch  50 Error:  0.513\n",
            "Epoch  60 Error:  0.449\n",
            "Epoch  70 Error:  0.401\n",
            "Epoch  80 Error:  0.362\n",
            "Epoch  90 Error:  0.331\n",
            "Accuracy: 0.9955\n",
            "Fold  3\n",
            "--------------------------\n",
            "Epoch  0 Error:  3.194\n",
            "Epoch  10 Error:  1.439\n",
            "Epoch  20 Error:  0.991\n",
            "Epoch  30 Error:  0.762\n",
            "Epoch  40 Error:  0.623\n",
            "Epoch  50 Error:  0.53\n",
            "Epoch  60 Error:  0.463\n",
            "Epoch  70 Error:  0.412\n",
            "Epoch  80 Error:  0.372\n",
            "Epoch  90 Error:  0.34\n",
            "Accuracy: 0.9965\n",
            "Fold  4\n",
            "--------------------------\n",
            "Epoch  0 Error:  3.369\n",
            "Epoch  10 Error:  1.681\n",
            "Epoch  20 Error:  1.178\n",
            "Epoch  30 Error:  0.788\n",
            "Epoch  40 Error:  0.617\n",
            "Epoch  50 Error:  0.518\n",
            "Epoch  60 Error:  0.453\n",
            "Epoch  70 Error:  0.404\n",
            "Epoch  80 Error:  0.365\n",
            "Epoch  90 Error:  0.334\n",
            "Accuracy: 0.995\n"
          ]
        }
      ]
    },
    {
      "cell_type": "code",
      "source": [
        "acc_dict"
      ],
      "metadata": {
        "colab": {
          "base_uri": "https://localhost:8080/"
        },
        "id": "0kcL-RF3xk3p",
        "outputId": "03f746a8-81d9-408b-9586-5a4477bddb26"
      },
      "execution_count": null,
      "outputs": [
        {
          "output_type": "execute_result",
          "data": {
            "text/plain": [
              "{0.1: 0.9927999999999999,\n",
              " 1: 0.9958,\n",
              " 2: 0.9956000000000002,\n",
              " 3: 0.9947000000000001,\n",
              " 4: 0.9956000000000002}"
            ]
          },
          "metadata": {},
          "execution_count": 26
        }
      ]
    },
    {
      "cell_type": "code",
      "source": [
        "lambd = max(acc_dict, key=acc_dict.get)"
      ],
      "metadata": {
        "id": "61sYPc0oxKU9"
      },
      "execution_count": null,
      "outputs": []
    },
    {
      "cell_type": "markdown",
      "source": [
        "## 1.f)"
      ],
      "metadata": {
        "id": "IDDU0AiYx_uq"
      }
    },
    {
      "cell_type": "code",
      "source": [
        "# Feature Extraction\n",
        "from skimage.filters import prewitt_h,prewitt_v"
      ],
      "metadata": {
        "id": "-ki1p-jezA7g"
      },
      "execution_count": null,
      "outputs": []
    },
    {
      "cell_type": "code",
      "source": [
        "# Visualize\n",
        "index = 10\n",
        "\n",
        "im = train_imgs[index].reshape(64, 64)\n",
        "im = prewitt_h(im)\n",
        "\n",
        "Image.fromarray(np.uint8(im * 255) , 'L')"
      ],
      "metadata": {
        "colab": {
          "base_uri": "https://localhost:8080/",
          "height": 80
        },
        "id": "y51lIwi_yVGD",
        "outputId": "c67609af-0442-4cb8-9ea1-45dc5fb5ae45"
      },
      "execution_count": null,
      "outputs": [
        {
          "output_type": "execute_result",
          "data": {
            "text/plain": [
              "<PIL.Image.Image image mode=L size=64x64 at 0x7FB53631B690>"
            ],
            "image/png": "[encoded data removed]"
          },
          "metadata": {},
          "execution_count": 29
        }
      ]
    },
    {
      "cell_type": "code",
      "source": [
        "def extract_features(flat_imgs):\n",
        "  imgs = flat_imgs.reshape(-1, 64, 64)\n",
        "  horizontals = []\n",
        "  verticals = []\n",
        "\n",
        "  for img in imgs:\n",
        "    horizontal = prewitt_h(img)\n",
        "    vertical = prewitt_v(img)\n",
        "\n",
        "    horizontals.append(horizontal.reshape(-1))\n",
        "    verticals.append(vertical.reshape(-1))\n",
        "\n",
        "  return np.array(flat_imgs), np.array(horizontals), np.array(verticals)"
      ],
      "metadata": {
        "id": "yNrqbbrDxkJ0"
      },
      "execution_count": null,
      "outputs": []
    },
    {
      "cell_type": "code",
      "source": [
        "# Extract additional features by applying horizontal and vertical edge detection filters and concatenate all of them to a single feature vector\n",
        "flats_train, horizontals_train, verticals_train = extract_features(train_imgs)\n",
        "flats_test, horizontals_test, verticals_test = extract_features(test_imgs)\n",
        "\n",
        "flats_train, flats_test = apply_pca(flats_train, flats_test, feature_count)\n",
        "horizontals_train, horizontals_test = apply_pca(horizontals_train, horizontals_test, feature_count)\n",
        "verticals_train, verticals_test = apply_pca(verticals_train, verticals_test, feature_count)\n",
        "\n",
        "train_features = np.concatenate((flats_train, horizontals_train, verticals_train), axis=1)\n",
        "test_features = np.concatenate((flats_test, horizontals_test, verticals_test), axis=1)"
      ],
      "metadata": {
        "id": "Q2UKD3twIS-t"
      },
      "execution_count": null,
      "outputs": []
    },
    {
      "cell_type": "code",
      "source": [
        "train_features.shape"
      ],
      "metadata": {
        "colab": {
          "base_uri": "https://localhost:8080/"
        },
        "id": "K_ciIvqvKagv",
        "outputId": "6d532be2-a7ae-43f3-8090-d5dcbb80c3c2"
      },
      "execution_count": null,
      "outputs": [
        {
          "output_type": "execute_result",
          "data": {
            "text/plain": [
              "(10000, 1536)"
            ]
          },
          "metadata": {},
          "execution_count": 32
        }
      ]
    },
    {
      "cell_type": "code",
      "source": [
        "train_features_tsne = TSNE(n_components=2, learning_rate='auto', init='random').fit_transform(train_features)"
      ],
      "metadata": {
        "id": "W_r_4Cz52LBo"
      },
      "execution_count": null,
      "outputs": []
    },
    {
      "cell_type": "code",
      "source": [
        "# t-SNE with more discriminative features\n",
        "plt.scatter(train_features_tsne[:, 0], train_features_tsne[:, 1], c=preprocess_labels(train_orient))"
      ],
      "metadata": {
        "colab": {
          "base_uri": "https://localhost:8080/",
          "height": 280
        },
        "id": "R6Kfg79Q2WZb",
        "outputId": "386c94d2-bf73-468b-b426-3f93b4a758e4"
      },
      "execution_count": null,
      "outputs": [
        {
          "output_type": "execute_result",
          "data": {
            "text/plain": [
              "<matplotlib.collections.PathCollection at 0x7fb536ff9790>"
            ]
          },
          "metadata": {},
          "execution_count": 34
        },
        {
          "output_type": "display_data",
          "data": {
            "text/plain": [
              "<Figure size 432x288 with 1 Axes>"
            ],
            "image/png": "[encoded data removed]"
          },
          "metadata": {
            "needs_background": "light"
          }
        }
      ]
    },
    {
      "cell_type": "code",
      "source": [
        "# Train with more discriminative features\n",
        "X_train = np.append(train_features, np.ones((train_features.shape[0], 1)), axis=1) # add bias\n",
        "y_train = preprocess_labels(train_orient)\n",
        "\n",
        "X_test = np.append(test_features, np.ones((test_features.shape[0], 1)), axis=1) # add bias\n",
        "y_test = preprocess_labels(test_orient)\n",
        "\n",
        "weights = train(X_train, get_one_hot_encoding(y_train), epoch, lr)\n",
        "\n",
        "preds = predict(X_train, weights)\n",
        "acc_train = acc_metric(y_train, preds)\n",
        "\n",
        "preds = predict(X_test, weights)\n",
        "acc_test = acc_metric(y_test, preds)\n",
        "\n",
        "print(\"---------------------------\")\n",
        "print(\"Train Accuracy:\", acc_train, \"Test Accuracy:\", acc_test)"
      ],
      "metadata": {
        "colab": {
          "base_uri": "https://localhost:8080/"
        },
        "id": "gayJX7U_2Z61",
        "outputId": "a9c9a034-58e8-46f9-abb2-96ec5d8b23b8"
      },
      "execution_count": null,
      "outputs": [
        {
          "output_type": "stream",
          "name": "stdout",
          "text": [
            "Epoch  0 Error:  3.366\n",
            "Epoch  10 Error:  0.82\n",
            "Epoch  20 Error:  0.472\n",
            "Epoch  30 Error:  0.348\n",
            "Epoch  40 Error:  0.28\n",
            "Epoch  50 Error:  0.236\n",
            "Epoch  60 Error:  0.201\n",
            "Epoch  70 Error:  0.175\n",
            "Epoch  80 Error:  0.155\n",
            "Epoch  90 Error:  0.14\n",
            "---------------------------\n",
            "Train Accuracy: 0.9998 Test Accuracy: 1.0\n"
          ]
        }
      ]
    },
    {
      "cell_type": "markdown",
      "source": [
        "`Train Accuracy: 1.0 Test Accuracy: 1.0`"
      ],
      "metadata": {
        "id": "OOK-YyUINXbD"
      }
    },
    {
      "cell_type": "markdown",
      "source": [
        "## 1.g)"
      ],
      "metadata": {
        "id": "_q5uvIBXBy-I"
      }
    },
    {
      "cell_type": "code",
      "source": [
        "import seaborn as sns"
      ],
      "metadata": {
        "id": "ZClUh1wgG4Jz"
      },
      "execution_count": null,
      "outputs": []
    },
    {
      "cell_type": "code",
      "source": [
        "# y axis is features \n",
        "# x axis is classes\n",
        "sns.heatmap(weights)"
      ],
      "metadata": {
        "colab": {
          "base_uri": "https://localhost:8080/",
          "height": 285
        },
        "id": "hbj4o24zGVWV",
        "outputId": "ad87b597-792c-4008-b411-bdd08f2c9161"
      },
      "execution_count": null,
      "outputs": [
        {
          "output_type": "execute_result",
          "data": {
            "text/plain": [
              "<matplotlib.axes._subplots.AxesSubplot at 0x7fb52eb4c710>"
            ]
          },
          "metadata": {},
          "execution_count": 37
        },
        {
          "output_type": "display_data",
          "data": {
            "text/plain": [
              "<Figure size 432x288 with 2 Axes>"
            ],
            "image/png": "[encoded data removed]"
          },
          "metadata": {
            "needs_background": "light"
          }
        }
      ]
    },
    {
      "cell_type": "code",
      "source": [
        "# x axis is features \n",
        "weights_col = np.mean(np.abs(weights), axis=1)\n",
        "plt.plot(weights_col)"
      ],
      "metadata": {
        "colab": {
          "base_uri": "https://localhost:8080/",
          "height": 280
        },
        "id": "9xFzcOdDNgWs",
        "outputId": "e2dd65bd-efcd-485c-c7ec-508546bf5f4b"
      },
      "execution_count": null,
      "outputs": [
        {
          "output_type": "execute_result",
          "data": {
            "text/plain": [
              "[<matplotlib.lines.Line2D at 0x7fb52e277e10>]"
            ]
          },
          "metadata": {},
          "execution_count": 38
        },
        {
          "output_type": "display_data",
          "data": {
            "text/plain": [
              "<Figure size 432x288 with 1 Axes>"
            ],
            "image/png": "[encoded data removed]"
          },
          "metadata": {
            "needs_background": "light"
          }
        }
      ]
    },
    {
      "cell_type": "markdown",
      "source": [
        "After plotting the weight values with a heatmap and with a line plot. We can easily see that there are three part of the weights (0, 512, 1024) which are activated most (negatively or positively) so we can say that they are the features which affect the result most because they are the coefficients of the input features.\n",
        "\n",
        "The most effective weights are gathered on 0, 512, 1024 because we extract three different feature vectors and concatenate them to a single feature vector and these three different feature vectors are obtained by applying PCA to flattened images and, as we talked above, PCA gives us the axises that have most variatition on the dataset in order.\n",
        "\n",
        "The first image is original grayscale image, the second image is image obtained by applying horizontal edge detection filter, the third image is image obtained by applying vertical edge detection filter.\n",
        "\n",
        "As you can see, the horizontal features are the one which are activated most. This makes sense because we are trying to predict the orientations of the images and the horizontal edges are the best way to detect orientations.\n",
        "\n",
        "Extra note: the last column for the feature vector are bias."
      ],
      "metadata": {
        "id": "DwNkLBDUJ_qH"
      }
    },
    {
      "cell_type": "markdown",
      "source": [
        "## 1.h)"
      ],
      "metadata": {
        "id": "T2KueThaQA5O"
      }
    },
    {
      "cell_type": "markdown",
      "source": [
        "Tune lambda for l1-regularization (implementation is written above)"
      ],
      "metadata": {
        "id": "o8h4_7u709Zb"
      }
    },
    {
      "cell_type": "code",
      "source": [
        "epoch = 100\n",
        "k = 5\n",
        "lambdas = np.arange(0.1, 1.1, 0.1)\n",
        "\n",
        "acc_dict = cross_validation_error(train_imgs_reduced, train_orient, k, epoch, params=lambdas, tune=\"lambda\", lr=lr, regularization=\"l1\")"
      ],
      "metadata": {
        "id": "EMGnUb1mJ_Xp",
        "colab": {
          "base_uri": "https://localhost:8080/"
        },
        "outputId": "570b7535-9e7c-49dd-c5f5-6596d4e0b12b"
      },
      "execution_count": null,
      "outputs": [
        {
          "output_type": "stream",
          "name": "stdout",
          "text": [
            "lambda:  0.1\n",
            "Fold  0\n",
            "--------------------------\n",
            "Epoch  0 Error:  3.201\n",
            "Epoch  10 Error:  1.632\n",
            "Epoch  20 Error:  0.972\n",
            "Epoch  30 Error:  0.733\n",
            "Epoch  40 Error:  0.602\n",
            "Epoch  50 Error:  0.514\n",
            "Epoch  60 Error:  0.45\n",
            "Epoch  70 Error:  0.402\n",
            "Epoch  80 Error:  0.364\n",
            "Epoch  90 Error:  0.333\n",
            "Accuracy: 0.9945\n",
            "Fold  1\n",
            "--------------------------\n",
            "Epoch  0 Error:  3.269\n",
            "Epoch  10 Error:  1.394\n",
            "Epoch  20 Error:  0.951\n",
            "Epoch  30 Error:  0.734\n",
            "Epoch  40 Error:  0.602\n",
            "Epoch  50 Error:  0.513\n",
            "Epoch  60 Error:  0.449\n",
            "Epoch  70 Error:  0.4\n",
            "Epoch  80 Error:  0.362\n",
            "Epoch  90 Error:  0.33\n",
            "Accuracy: 0.993\n",
            "Fold  2\n",
            "--------------------------\n",
            "Epoch  0 Error:  3.267\n",
            "Epoch  10 Error:  1.738\n",
            "Epoch  20 Error:  1.025\n",
            "Epoch  30 Error:  0.787\n",
            "Epoch  40 Error:  0.622\n",
            "Epoch  50 Error:  0.522\n",
            "Epoch  60 Error:  0.455\n",
            "Epoch  70 Error:  0.405\n",
            "Epoch  80 Error:  0.365\n",
            "Epoch  90 Error:  0.333\n",
            "Accuracy: 0.993\n",
            "Fold  3\n",
            "--------------------------\n",
            "Epoch  0 Error:  3.122\n",
            "Epoch  10 Error:  1.445\n",
            "Epoch  20 Error:  0.971\n",
            "Epoch  30 Error:  0.749\n",
            "Epoch  40 Error:  0.614\n",
            "Epoch  50 Error:  0.523\n",
            "Epoch  60 Error:  0.458\n",
            "Epoch  70 Error:  0.408\n",
            "Epoch  80 Error:  0.369\n",
            "Epoch  90 Error:  0.337\n",
            "Accuracy: 0.9935\n",
            "Fold  4\n",
            "--------------------------\n",
            "Epoch  0 Error:  3.186\n",
            "Epoch  10 Error:  2.322\n",
            "Epoch  20 Error:  1.235\n",
            "Epoch  30 Error:  0.749\n",
            "Epoch  40 Error:  0.613\n",
            "Epoch  50 Error:  0.518\n",
            "Epoch  60 Error:  0.453\n",
            "Epoch  70 Error:  0.405\n",
            "Epoch  80 Error:  0.366\n",
            "Epoch  90 Error:  0.335\n",
            "Accuracy: 0.9955\n",
            "lambda:  0.2\n",
            "Fold  0\n",
            "--------------------------\n",
            "Epoch  0 Error:  3.486\n",
            "Epoch  10 Error:  1.77\n",
            "Epoch  20 Error:  0.997\n",
            "Epoch  30 Error:  0.766\n",
            "Epoch  40 Error:  0.62\n",
            "Epoch  50 Error:  0.528\n",
            "Epoch  60 Error:  0.462\n",
            "Epoch  70 Error:  0.412\n",
            "Epoch  80 Error:  0.372\n",
            "Epoch  90 Error:  0.34\n",
            "Accuracy: 0.997\n",
            "Fold  1\n",
            "--------------------------\n",
            "Epoch  0 Error:  3.221\n",
            "Epoch  10 Error:  1.427\n",
            "Epoch  20 Error:  0.984\n",
            "Epoch  30 Error:  0.752\n",
            "Epoch  40 Error:  0.614\n",
            "Epoch  50 Error:  0.522\n",
            "Epoch  60 Error:  0.455\n",
            "Epoch  70 Error:  0.405\n",
            "Epoch  80 Error:  0.365\n",
            "Epoch  90 Error:  0.333\n",
            "Accuracy: 0.9875\n",
            "Fold  2\n",
            "--------------------------\n",
            "Epoch  0 Error:  3.259\n",
            "Epoch  10 Error:  1.62\n",
            "Epoch  20 Error:  1.079\n",
            "Epoch  30 Error:  0.754\n",
            "Epoch  40 Error:  0.599\n",
            "Epoch  50 Error:  0.508\n",
            "Epoch  60 Error:  0.445\n",
            "Epoch  70 Error:  0.397\n",
            "Epoch  80 Error:  0.359\n",
            "Epoch  90 Error:  0.328\n",
            "Accuracy: 0.9975\n",
            "Fold  3\n",
            "--------------------------\n",
            "Epoch  0 Error:  3.209\n",
            "Epoch  10 Error:  1.428\n",
            "Epoch  20 Error:  1.0\n",
            "Epoch  30 Error:  0.77\n",
            "Epoch  40 Error:  0.631\n",
            "Epoch  50 Error:  0.537\n",
            "Epoch  60 Error:  0.469\n",
            "Epoch  70 Error:  0.417\n",
            "Epoch  80 Error:  0.377\n",
            "Epoch  90 Error:  0.344\n",
            "Accuracy: 0.9965\n",
            "Fold  4\n",
            "--------------------------\n",
            "Epoch  0 Error:  3.345\n",
            "Epoch  10 Error:  1.538\n",
            "Epoch  20 Error:  1.027\n",
            "Epoch  30 Error:  0.804\n",
            "Epoch  40 Error:  0.618\n",
            "Epoch  50 Error:  0.515\n",
            "Epoch  60 Error:  0.452\n",
            "Epoch  70 Error:  0.404\n",
            "Epoch  80 Error:  0.367\n",
            "Epoch  90 Error:  0.336\n",
            "Accuracy: 0.9915\n",
            "lambda:  0.30000000000000004\n",
            "Fold  0\n",
            "--------------------------\n",
            "Epoch  0 Error:  3.211\n",
            "Epoch  10 Error:  1.715\n",
            "Epoch  20 Error:  0.971\n",
            "Epoch  30 Error:  0.746\n",
            "Epoch  40 Error:  0.61\n",
            "Epoch  50 Error:  0.52\n",
            "Epoch  60 Error:  0.455\n",
            "Epoch  70 Error:  0.406\n",
            "Epoch  80 Error:  0.367\n",
            "Epoch  90 Error:  0.335\n",
            "Accuracy: 0.994\n",
            "Fold  1\n",
            "--------------------------\n",
            "Epoch  0 Error:  3.294\n",
            "Epoch  10 Error:  1.419\n",
            "Epoch  20 Error:  0.983\n",
            "Epoch  30 Error:  0.746\n",
            "Epoch  40 Error:  0.61\n",
            "Epoch  50 Error:  0.519\n",
            "Epoch  60 Error:  0.454\n",
            "Epoch  70 Error:  0.404\n",
            "Epoch  80 Error:  0.364\n",
            "Epoch  90 Error:  0.333\n",
            "Accuracy: 0.988\n",
            "Fold  2\n",
            "--------------------------\n",
            "Epoch  0 Error:  3.115\n",
            "Epoch  10 Error:  1.846\n",
            "Epoch  20 Error:  1.026\n",
            "Epoch  30 Error:  0.74\n",
            "Epoch  40 Error:  0.595\n",
            "Epoch  50 Error:  0.504\n",
            "Epoch  60 Error:  0.442\n",
            "Epoch  70 Error:  0.394\n",
            "Epoch  80 Error:  0.357\n",
            "Epoch  90 Error:  0.326\n",
            "Accuracy: 0.996\n",
            "Fold  3\n",
            "--------------------------\n",
            "Epoch  0 Error:  3.16\n",
            "Epoch  10 Error:  1.622\n",
            "Epoch  20 Error:  0.967\n",
            "Epoch  30 Error:  0.749\n",
            "Epoch  40 Error:  0.616\n",
            "Epoch  50 Error:  0.526\n",
            "Epoch  60 Error:  0.46\n",
            "Epoch  70 Error:  0.41\n",
            "Epoch  80 Error:  0.371\n",
            "Epoch  90 Error:  0.339\n",
            "Accuracy: 0.997\n",
            "Fold  4\n",
            "--------------------------\n",
            "Epoch  0 Error:  3.317\n",
            "Epoch  10 Error:  2.017\n",
            "Epoch  20 Error:  1.213\n",
            "Epoch  30 Error:  0.754\n",
            "Epoch  40 Error:  0.597\n",
            "Epoch  50 Error:  0.511\n",
            "Epoch  60 Error:  0.449\n",
            "Epoch  70 Error:  0.401\n",
            "Epoch  80 Error:  0.364\n",
            "Epoch  90 Error:  0.333\n",
            "Accuracy: 0.993\n",
            "lambda:  0.4\n",
            "Fold  0\n",
            "--------------------------\n",
            "Epoch  0 Error:  3.191\n",
            "Epoch  10 Error:  1.934\n",
            "Epoch  20 Error:  0.999\n",
            "Epoch  30 Error:  0.747\n",
            "Epoch  40 Error:  0.607\n",
            "Epoch  50 Error:  0.52\n",
            "Epoch  60 Error:  0.456\n",
            "Epoch  70 Error:  0.407\n",
            "Epoch  80 Error:  0.369\n",
            "Epoch  90 Error:  0.338\n",
            "Accuracy: 0.994\n",
            "Fold  1\n",
            "--------------------------\n",
            "Epoch  0 Error:  3.116\n",
            "Epoch  10 Error:  1.43\n",
            "Epoch  20 Error:  0.981\n",
            "Epoch  30 Error:  0.749\n",
            "Epoch  40 Error:  0.613\n",
            "Epoch  50 Error:  0.522\n",
            "Epoch  60 Error:  0.456\n",
            "Epoch  70 Error:  0.406\n",
            "Epoch  80 Error:  0.366\n",
            "Epoch  90 Error:  0.334\n",
            "Accuracy: 0.9925\n",
            "Fold  2\n",
            "--------------------------\n",
            "Epoch  0 Error:  3.308\n",
            "Epoch  10 Error:  1.847\n",
            "Epoch  20 Error:  1.122\n",
            "Epoch  30 Error:  0.763\n",
            "Epoch  40 Error:  0.613\n",
            "Epoch  50 Error:  0.519\n",
            "Epoch  60 Error:  0.454\n",
            "Epoch  70 Error:  0.404\n",
            "Epoch  80 Error:  0.365\n",
            "Epoch  90 Error:  0.333\n",
            "Accuracy: 0.997\n",
            "Fold  3\n",
            "--------------------------\n",
            "Epoch  0 Error:  3.171\n",
            "Epoch  10 Error:  1.427\n",
            "Epoch  20 Error:  0.989\n",
            "Epoch  30 Error:  0.763\n",
            "Epoch  40 Error:  0.626\n",
            "Epoch  50 Error:  0.534\n",
            "Epoch  60 Error:  0.467\n",
            "Epoch  70 Error:  0.417\n",
            "Epoch  80 Error:  0.377\n",
            "Epoch  90 Error:  0.344\n",
            "Accuracy: 0.993\n",
            "Fold  4\n",
            "--------------------------\n",
            "Epoch  0 Error:  3.236\n",
            "Epoch  10 Error:  1.847\n",
            "Epoch  20 Error:  1.215\n",
            "Epoch  30 Error:  0.846\n",
            "Epoch  40 Error:  0.635\n",
            "Epoch  50 Error:  0.527\n",
            "Epoch  60 Error:  0.46\n",
            "Epoch  70 Error:  0.41\n",
            "Epoch  80 Error:  0.371\n",
            "Epoch  90 Error:  0.339\n",
            "Accuracy: 0.994\n",
            "lambda:  0.5\n",
            "Fold  0\n",
            "--------------------------\n",
            "Epoch  0 Error:  3.297\n",
            "Epoch  10 Error:  1.589\n",
            "Epoch  20 Error:  0.966\n",
            "Epoch  30 Error:  0.747\n",
            "Epoch  40 Error:  0.612\n",
            "Epoch  50 Error:  0.522\n",
            "Epoch  60 Error:  0.457\n",
            "Epoch  70 Error:  0.408\n",
            "Epoch  80 Error:  0.369\n",
            "Epoch  90 Error:  0.337\n",
            "Accuracy: 0.997\n",
            "Fold  1\n",
            "--------------------------\n",
            "Epoch  0 Error:  3.32\n",
            "Epoch  10 Error:  1.426\n",
            "Epoch  20 Error:  0.98\n",
            "Epoch  30 Error:  0.751\n",
            "Epoch  40 Error:  0.613\n",
            "Epoch  50 Error:  0.521\n",
            "Epoch  60 Error:  0.454\n",
            "Epoch  70 Error:  0.404\n",
            "Epoch  80 Error:  0.365\n",
            "Epoch  90 Error:  0.333\n",
            "Accuracy: 0.9945\n",
            "Fold  2\n",
            "--------------------------\n",
            "Epoch  0 Error:  3.17\n",
            "Epoch  10 Error:  1.784\n",
            "Epoch  20 Error:  1.051\n",
            "Epoch  30 Error:  0.776\n",
            "Epoch  40 Error:  0.619\n",
            "Epoch  50 Error:  0.523\n",
            "Epoch  60 Error:  0.457\n",
            "Epoch  70 Error:  0.408\n",
            "Epoch  80 Error:  0.368\n",
            "Epoch  90 Error:  0.336\n",
            "Accuracy: 0.994\n",
            "Fold  3\n",
            "--------------------------\n",
            "Epoch  0 Error:  3.025\n",
            "Epoch  10 Error:  1.584\n",
            "Epoch  20 Error:  0.961\n",
            "Epoch  30 Error:  0.745\n",
            "Epoch  40 Error:  0.613\n",
            "Epoch  50 Error:  0.523\n",
            "Epoch  60 Error:  0.458\n",
            "Epoch  70 Error:  0.409\n",
            "Epoch  80 Error:  0.37\n",
            "Epoch  90 Error:  0.338\n",
            "Accuracy: 0.997\n",
            "Fold  4\n",
            "--------------------------\n",
            "Epoch  0 Error:  3.084\n",
            "Epoch  10 Error:  2.454\n",
            "Epoch  20 Error:  1.089\n",
            "Epoch  30 Error:  0.763\n",
            "Epoch  40 Error:  0.603\n",
            "Epoch  50 Error:  0.513\n",
            "Epoch  60 Error:  0.452\n",
            "Epoch  70 Error:  0.405\n",
            "Epoch  80 Error:  0.367\n",
            "Epoch  90 Error:  0.337\n",
            "Accuracy: 0.9935\n",
            "lambda:  0.6\n",
            "Fold  0\n",
            "--------------------------\n",
            "Epoch  0 Error:  3.121\n",
            "Epoch  10 Error:  1.897\n",
            "Epoch  20 Error:  0.968\n",
            "Epoch  30 Error:  0.743\n",
            "Epoch  40 Error:  0.611\n",
            "Epoch  50 Error:  0.522\n",
            "Epoch  60 Error:  0.457\n",
            "Epoch  70 Error:  0.408\n",
            "Epoch  80 Error:  0.369\n",
            "Epoch  90 Error:  0.337\n",
            "Accuracy: 0.997\n",
            "Fold  1\n",
            "--------------------------\n",
            "Epoch  0 Error:  3.222\n",
            "Epoch  10 Error:  1.524\n",
            "Epoch  20 Error:  0.956\n",
            "Epoch  30 Error:  0.74\n",
            "Epoch  40 Error:  0.607\n",
            "Epoch  50 Error:  0.518\n",
            "Epoch  60 Error:  0.453\n",
            "Epoch  70 Error:  0.403\n",
            "Epoch  80 Error:  0.364\n",
            "Epoch  90 Error:  0.333\n",
            "Accuracy: 0.989\n",
            "Fold  2\n",
            "--------------------------\n",
            "Epoch  0 Error:  3.112\n",
            "Epoch  10 Error:  2.035\n",
            "Epoch  20 Error:  1.062\n",
            "Epoch  30 Error:  0.764\n",
            "Epoch  40 Error:  0.611\n",
            "Epoch  50 Error:  0.519\n",
            "Epoch  60 Error:  0.454\n",
            "Epoch  70 Error:  0.405\n",
            "Epoch  80 Error:  0.366\n",
            "Epoch  90 Error:  0.334\n",
            "Accuracy: 0.9985\n",
            "Fold  3\n",
            "--------------------------\n",
            "Epoch  0 Error:  3.41\n",
            "Epoch  10 Error:  1.452\n",
            "Epoch  20 Error:  0.988\n",
            "Epoch  30 Error:  0.762\n",
            "Epoch  40 Error:  0.625\n",
            "Epoch  50 Error:  0.532\n",
            "Epoch  60 Error:  0.465\n",
            "Epoch  70 Error:  0.414\n",
            "Epoch  80 Error:  0.374\n",
            "Epoch  90 Error:  0.342\n",
            "Accuracy: 0.995\n",
            "Fold  4\n",
            "--------------------------\n",
            "Epoch  0 Error:  3.391\n",
            "Epoch  10 Error:  2.015\n",
            "Epoch  20 Error:  1.335\n",
            "Epoch  30 Error:  0.842\n",
            "Epoch  40 Error:  0.619\n",
            "Epoch  50 Error:  0.518\n",
            "Epoch  60 Error:  0.453\n",
            "Epoch  70 Error:  0.404\n",
            "Epoch  80 Error:  0.365\n",
            "Epoch  90 Error:  0.334\n",
            "Accuracy: 0.9965\n",
            "lambda:  0.7000000000000001\n",
            "Fold  0\n",
            "--------------------------\n",
            "Epoch  0 Error:  3.416\n",
            "Epoch  10 Error:  1.791\n",
            "Epoch  20 Error:  0.967\n",
            "Epoch  30 Error:  0.74\n",
            "Epoch  40 Error:  0.607\n",
            "Epoch  50 Error:  0.52\n",
            "Epoch  60 Error:  0.455\n",
            "Epoch  70 Error:  0.407\n",
            "Epoch  80 Error:  0.368\n",
            "Epoch  90 Error:  0.336\n",
            "Accuracy: 0.9935\n",
            "Fold  1\n",
            "--------------------------\n",
            "Epoch  0 Error:  3.204\n",
            "Epoch  10 Error:  1.4\n",
            "Epoch  20 Error:  0.975\n",
            "Epoch  30 Error:  0.751\n",
            "Epoch  40 Error:  0.615\n",
            "Epoch  50 Error:  0.522\n",
            "Epoch  60 Error:  0.456\n",
            "Epoch  70 Error:  0.406\n",
            "Epoch  80 Error:  0.366\n",
            "Epoch  90 Error:  0.334\n",
            "Accuracy: 0.991\n",
            "Fold  2\n",
            "--------------------------\n",
            "Epoch  0 Error:  3.164\n",
            "Epoch  10 Error:  1.926\n",
            "Epoch  20 Error:  1.125\n",
            "Epoch  30 Error:  0.782\n",
            "Epoch  40 Error:  0.615\n",
            "Epoch  50 Error:  0.518\n",
            "Epoch  60 Error:  0.453\n",
            "Epoch  70 Error:  0.404\n",
            "Epoch  80 Error:  0.365\n",
            "Epoch  90 Error:  0.333\n",
            "Accuracy: 0.9935\n",
            "Fold  3\n",
            "--------------------------\n",
            "Epoch  0 Error:  3.033\n",
            "Epoch  10 Error:  1.391\n",
            "Epoch  20 Error:  0.965\n",
            "Epoch  30 Error:  0.744\n",
            "Epoch  40 Error:  0.61\n",
            "Epoch  50 Error:  0.52\n",
            "Epoch  60 Error:  0.455\n",
            "Epoch  70 Error:  0.405\n",
            "Epoch  80 Error:  0.366\n",
            "Epoch  90 Error:  0.335\n",
            "Accuracy: 0.996\n",
            "Fold  4\n",
            "--------------------------\n",
            "Epoch  0 Error:  3.068\n",
            "Epoch  10 Error:  2.218\n",
            "Epoch  20 Error:  1.027\n",
            "Epoch  30 Error:  0.812\n",
            "Epoch  40 Error:  0.631\n",
            "Epoch  50 Error:  0.524\n",
            "Epoch  60 Error:  0.458\n",
            "Epoch  70 Error:  0.408\n",
            "Epoch  80 Error:  0.369\n",
            "Epoch  90 Error:  0.338\n",
            "Accuracy: 0.997\n",
            "lambda:  0.8\n",
            "Fold  0\n",
            "--------------------------\n",
            "Epoch  0 Error:  3.352\n",
            "Epoch  10 Error:  2.171\n",
            "Epoch  20 Error:  0.999\n",
            "Epoch  30 Error:  0.772\n",
            "Epoch  40 Error:  0.622\n",
            "Epoch  50 Error:  0.529\n",
            "Epoch  60 Error:  0.463\n",
            "Epoch  70 Error:  0.413\n",
            "Epoch  80 Error:  0.373\n",
            "Epoch  90 Error:  0.341\n",
            "Accuracy: 0.996\n",
            "Fold  1\n",
            "--------------------------\n",
            "Epoch  0 Error:  2.968\n",
            "Epoch  10 Error:  1.394\n",
            "Epoch  20 Error:  0.94\n",
            "Epoch  30 Error:  0.731\n",
            "Epoch  40 Error:  0.602\n",
            "Epoch  50 Error:  0.515\n",
            "Epoch  60 Error:  0.451\n",
            "Epoch  70 Error:  0.402\n",
            "Epoch  80 Error:  0.364\n",
            "Epoch  90 Error:  0.332\n",
            "Accuracy: 0.9925\n",
            "Fold  2\n",
            "--------------------------\n",
            "Epoch  0 Error:  3.488\n",
            "Epoch  10 Error:  1.874\n",
            "Epoch  20 Error:  0.967\n",
            "Epoch  30 Error:  0.755\n",
            "Epoch  40 Error:  0.609\n",
            "Epoch  50 Error:  0.515\n",
            "Epoch  60 Error:  0.45\n",
            "Epoch  70 Error:  0.401\n",
            "Epoch  80 Error:  0.363\n",
            "Epoch  90 Error:  0.331\n",
            "Accuracy: 0.9955\n",
            "Fold  3\n",
            "--------------------------\n",
            "Epoch  0 Error:  3.37\n",
            "Epoch  10 Error:  1.479\n",
            "Epoch  20 Error:  0.936\n",
            "Epoch  30 Error:  0.73\n",
            "Epoch  40 Error:  0.603\n",
            "Epoch  50 Error:  0.516\n",
            "Epoch  60 Error:  0.453\n",
            "Epoch  70 Error:  0.405\n",
            "Epoch  80 Error:  0.367\n",
            "Epoch  90 Error:  0.335\n",
            "Accuracy: 0.9965\n",
            "Fold  4\n",
            "--------------------------\n",
            "Epoch  0 Error:  3.212\n",
            "Epoch  10 Error:  1.912\n",
            "Epoch  20 Error:  1.145\n",
            "Epoch  30 Error:  0.795\n",
            "Epoch  40 Error:  0.619\n",
            "Epoch  50 Error:  0.516\n",
            "Epoch  60 Error:  0.451\n",
            "Epoch  70 Error:  0.402\n",
            "Epoch  80 Error:  0.363\n",
            "Epoch  90 Error:  0.332\n",
            "Accuracy: 0.9955\n",
            "lambda:  0.9\n",
            "Fold  0\n",
            "--------------------------\n",
            "Epoch  0 Error:  3.195\n",
            "Epoch  10 Error:  1.428\n",
            "Epoch  20 Error:  0.982\n",
            "Epoch  30 Error:  0.755\n",
            "Epoch  40 Error:  0.613\n",
            "Epoch  50 Error:  0.522\n",
            "Epoch  60 Error:  0.457\n",
            "Epoch  70 Error:  0.407\n",
            "Epoch  80 Error:  0.368\n",
            "Epoch  90 Error:  0.336\n",
            "Accuracy: 0.9955\n",
            "Fold  1\n",
            "--------------------------\n",
            "Epoch  0 Error:  2.967\n",
            "Epoch  10 Error:  1.474\n",
            "Epoch  20 Error:  0.947\n",
            "Epoch  30 Error:  0.731\n",
            "Epoch  40 Error:  0.601\n",
            "Epoch  50 Error:  0.513\n",
            "Epoch  60 Error:  0.449\n",
            "Epoch  70 Error:  0.4\n",
            "Epoch  80 Error:  0.361\n",
            "Epoch  90 Error:  0.33\n",
            "Accuracy: 0.994\n",
            "Fold  2\n",
            "--------------------------\n",
            "Epoch  0 Error:  3.426\n",
            "Epoch  10 Error:  1.845\n",
            "Epoch  20 Error:  1.046\n",
            "Epoch  30 Error:  0.759\n",
            "Epoch  40 Error:  0.605\n",
            "Epoch  50 Error:  0.515\n",
            "Epoch  60 Error:  0.451\n",
            "Epoch  70 Error:  0.403\n",
            "Epoch  80 Error:  0.365\n",
            "Epoch  90 Error:  0.334\n",
            "Accuracy: 0.9945\n",
            "Fold  3\n",
            "--------------------------\n",
            "Epoch  0 Error:  3.158\n",
            "Epoch  10 Error:  1.391\n",
            "Epoch  20 Error:  0.964\n",
            "Epoch  30 Error:  0.748\n",
            "Epoch  40 Error:  0.616\n",
            "Epoch  50 Error:  0.526\n",
            "Epoch  60 Error:  0.461\n",
            "Epoch  70 Error:  0.411\n",
            "Epoch  80 Error:  0.372\n",
            "Epoch  90 Error:  0.34\n",
            "Accuracy: 0.994\n",
            "Fold  4\n",
            "--------------------------\n",
            "Epoch  0 Error:  3.337\n",
            "Epoch  10 Error:  1.903\n",
            "Epoch  20 Error:  1.214\n",
            "Epoch  30 Error:  0.807\n",
            "Epoch  40 Error:  0.625\n",
            "Epoch  50 Error:  0.525\n",
            "Epoch  60 Error:  0.461\n",
            "Epoch  70 Error:  0.412\n",
            "Epoch  80 Error:  0.373\n",
            "Epoch  90 Error:  0.341\n",
            "Accuracy: 0.9935\n",
            "lambda:  1.0\n",
            "Fold  0\n",
            "--------------------------\n",
            "Epoch  0 Error:  3.071\n",
            "Epoch  10 Error:  1.809\n",
            "Epoch  20 Error:  0.957\n",
            "Epoch  30 Error:  0.737\n",
            "Epoch  40 Error:  0.604\n",
            "Epoch  50 Error:  0.516\n",
            "Epoch  60 Error:  0.453\n",
            "Epoch  70 Error:  0.404\n",
            "Epoch  80 Error:  0.366\n",
            "Epoch  90 Error:  0.335\n",
            "Accuracy: 0.995\n",
            "Fold  1\n",
            "--------------------------\n",
            "Epoch  0 Error:  3.172\n",
            "Epoch  10 Error:  1.487\n",
            "Epoch  20 Error:  0.976\n",
            "Epoch  30 Error:  0.749\n",
            "Epoch  40 Error:  0.612\n",
            "Epoch  50 Error:  0.521\n",
            "Epoch  60 Error:  0.455\n",
            "Epoch  70 Error:  0.404\n",
            "Epoch  80 Error:  0.365\n",
            "Epoch  90 Error:  0.333\n",
            "Accuracy: 0.9965\n",
            "Fold  2\n",
            "--------------------------\n",
            "Epoch  0 Error:  3.136\n",
            "Epoch  10 Error:  1.801\n",
            "Epoch  20 Error:  1.031\n",
            "Epoch  30 Error:  0.756\n",
            "Epoch  40 Error:  0.605\n",
            "Epoch  50 Error:  0.515\n",
            "Epoch  60 Error:  0.452\n",
            "Epoch  70 Error:  0.403\n",
            "Epoch  80 Error:  0.365\n",
            "Epoch  90 Error:  0.333\n",
            "Accuracy: 0.9965\n",
            "Fold  3\n",
            "--------------------------\n",
            "Epoch  0 Error:  3.296\n",
            "Epoch  10 Error:  1.61\n",
            "Epoch  20 Error:  0.969\n",
            "Epoch  30 Error:  0.75\n",
            "Epoch  40 Error:  0.618\n",
            "Epoch  50 Error:  0.527\n",
            "Epoch  60 Error:  0.462\n",
            "Epoch  70 Error:  0.412\n",
            "Epoch  80 Error:  0.373\n",
            "Epoch  90 Error:  0.341\n",
            "Accuracy: 0.9935\n",
            "Fold  4\n",
            "--------------------------\n",
            "Epoch  0 Error:  3.112\n",
            "Epoch  10 Error:  1.655\n",
            "Epoch  20 Error:  1.309\n",
            "Epoch  30 Error:  0.773\n",
            "Epoch  40 Error:  0.618\n",
            "Epoch  50 Error:  0.516\n",
            "Epoch  60 Error:  0.452\n",
            "Epoch  70 Error:  0.403\n",
            "Epoch  80 Error:  0.365\n",
            "Epoch  90 Error:  0.334\n",
            "Accuracy: 0.9955\n"
          ]
        }
      ]
    },
    {
      "cell_type": "code",
      "source": [
        "acc_dict"
      ],
      "metadata": {
        "colab": {
          "base_uri": "https://localhost:8080/"
        },
        "id": "-GAhIVHd50VD",
        "outputId": "8ba9ac03-4401-4c69-aef0-d4a1912de42e"
      },
      "execution_count": null,
      "outputs": [
        {
          "output_type": "execute_result",
          "data": {
            "text/plain": [
              "{0.1: 0.9939,\n",
              " 0.2: 0.9940000000000001,\n",
              " 0.30000000000000004: 0.9936,\n",
              " 0.4: 0.9940999999999999,\n",
              " 0.5: 0.9952,\n",
              " 0.6: 0.9952,\n",
              " 0.7000000000000001: 0.9942,\n",
              " 0.8: 0.9952,\n",
              " 0.9: 0.9943,\n",
              " 1.0: 0.9954000000000001}"
            ]
          },
          "metadata": {},
          "execution_count": 40
        }
      ]
    },
    {
      "cell_type": "code",
      "source": [
        "lambd = max(acc_dict, key=acc_dict.get)"
      ],
      "metadata": {
        "id": "hpGEF6Eu4_rS"
      },
      "execution_count": null,
      "outputs": []
    },
    {
      "cell_type": "code",
      "source": [
        "# Train with more discriminative features and l1 regularization\n",
        "X_train = np.append(train_features, np.ones((train_features.shape[0], 1)), axis=1) # add bias\n",
        "y_train = preprocess_labels(train_orient)\n",
        "\n",
        "X_test = np.append(test_features, np.ones((test_features.shape[0], 1)), axis=1) # add bias\n",
        "y_test = preprocess_labels(test_orient)\n",
        "\n",
        "weights = train(X_train, get_one_hot_encoding(y_train), epoch, lr, regularization=\"l1\", lambd=lambd)\n",
        "\n",
        "preds = predict(X_train, weights)\n",
        "acc_train = acc_metric(y_train, preds)\n",
        "\n",
        "preds = predict(X_test, weights)\n",
        "acc_test = acc_metric(y_test, preds)\n",
        "\n",
        "print(\"---------------------------\")\n",
        "print(\"Train Accuracy:\", acc_train, \"Test Accuracy:\", acc_test)"
      ],
      "metadata": {
        "colab": {
          "base_uri": "https://localhost:8080/"
        },
        "id": "5g-PX4gr5EI0",
        "outputId": "461031d6-a888-41e4-d14b-1c6d978147d4"
      },
      "execution_count": null,
      "outputs": [
        {
          "output_type": "stream",
          "name": "stdout",
          "text": [
            "Epoch  0 Error:  3.599\n",
            "Epoch  10 Error:  0.857\n",
            "Epoch  20 Error:  0.496\n",
            "Epoch  30 Error:  0.357\n",
            "Epoch  40 Error:  0.282\n",
            "Epoch  50 Error:  0.236\n",
            "Epoch  60 Error:  0.202\n",
            "Epoch  70 Error:  0.175\n",
            "Epoch  80 Error:  0.155\n",
            "Epoch  90 Error:  0.14\n",
            "---------------------------\n",
            "Train Accuracy: 1.0 Test Accuracy: 1.0\n"
          ]
        }
      ]
    },
    {
      "cell_type": "code",
      "source": [
        "# y axis is features \n",
        "# x axis is classes\n",
        "sns.heatmap(weights)"
      ],
      "metadata": {
        "id": "y3cxryw3G_rK",
        "colab": {
          "base_uri": "https://localhost:8080/",
          "height": 285
        },
        "outputId": "e5d8e174-5e07-4332-8ded-19aff4d4b55b"
      },
      "execution_count": null,
      "outputs": [
        {
          "output_type": "execute_result",
          "data": {
            "text/plain": [
              "<matplotlib.axes._subplots.AxesSubplot at 0x7fb52e1afa10>"
            ]
          },
          "metadata": {},
          "execution_count": 43
        },
        {
          "output_type": "display_data",
          "data": {
            "text/plain": [
              "<Figure size 432x288 with 2 Axes>"
            ],
            "image/png": "[encoded data removed]"
          },
          "metadata": {
            "needs_background": "light"
          }
        }
      ]
    },
    {
      "cell_type": "code",
      "source": [
        "# x axis is features \n",
        "weights_col = np.mean(np.abs(weights), axis=1)\n",
        "plt.plot(weights_col)"
      ],
      "metadata": {
        "colab": {
          "base_uri": "https://localhost:8080/",
          "height": 280
        },
        "id": "F5lia_W945l9",
        "outputId": "47a16085-1434-4503-b22d-025de99abd98"
      },
      "execution_count": null,
      "outputs": [
        {
          "output_type": "execute_result",
          "data": {
            "text/plain": [
              "[<matplotlib.lines.Line2D at 0x7fb52e083950>]"
            ]
          },
          "metadata": {},
          "execution_count": 44
        },
        {
          "output_type": "display_data",
          "data": {
            "text/plain": [
              "<Figure size 432x288 with 1 Axes>"
            ],
            "image/png": "[encoded data removed]"
          },
          "metadata": {
            "needs_background": "light"
          }
        }
      ]
    },
    {
      "cell_type": "markdown",
      "source": [
        "It is the same like discussed above. \n",
        "\n",
        "\"\"\"\n",
        "After plotting the weight values with a heatmap and with a line plot. We can easily see that there are three part of the weights (0, 512, 1024) which are activated most (negatively or positively) so we can say that they are the features which affect the result most because they are the coefficients of the input features.\n",
        "\n",
        "The most effective weights are gathered on 0, 512, 1024 because we extract three different feature vectors and concatenate them to a single feature vector and these three different feature vectors are obtained by applying PCA to flattened images and, as we talked above, PCA gives us the axises that have most variatition on the dataset in order.\n",
        "\n",
        "The first image is original grayscale image, the second image is image obtained by applying horizontal edge detection filter, the third image is image obtained by applying vertical edge detection filter.\n",
        "\n",
        "As you can see, the horizontal features are the one which are activated most. This makes sense because we are trying to predict the orientations of the images and the horizontal edges are the best way to detect orientations.\n",
        "\n",
        "Extra note: the last column for the feature vector are bias.\n",
        "\"\"\""
      ],
      "metadata": {
        "id": "-fUUEOFD6CUm"
      }
    },
    {
      "cell_type": "markdown",
      "source": [
        "## 2.a)"
      ],
      "metadata": {
        "id": "hZNKGBqn5UmX"
      }
    },
    {
      "cell_type": "code",
      "source": [
        "from sklearn.naive_bayes import MultinomialNB\n",
        "from sklearn.preprocessing import MinMaxScaler\n",
        "\n",
        "# Train\n",
        "X_train = train_features\n",
        "y_train = preprocess_labels(train_orient)\n",
        "\n",
        "X_test = test_features\n",
        "y_test = preprocess_labels(test_orient)\n",
        "\n",
        "scaler = MinMaxScaler()\n",
        "X_train_scaled = scaler.fit_transform(X_train)\n",
        "X_test_scaled = scaler.fit_transform(X_test)\n",
        "\n",
        "\n",
        "mnb = MultinomialNB()\n",
        "mnb = mnb.fit(X_train_scaled, y_train)\n",
        "\n",
        "naive_preds = mnb.predict(X_train_scaled)\n",
        "acc_train = acc_metric(y_train, naive_preds)\n",
        "\n",
        "naive_preds = mnb.predict(X_test_scaled)\n",
        "acc_test = acc_metric(y_test, naive_preds)\n",
        "\n",
        "print(\"---------------------------\")\n",
        "print(\"Train Accuracy:\", acc_train, \"Test Accuracy:\", acc_test)"
      ],
      "metadata": {
        "colab": {
          "base_uri": "https://localhost:8080/"
        },
        "id": "-uVgenkx5Wfx",
        "outputId": "ef7ae66d-f464-43c8-8e15-88923d11ef87"
      },
      "execution_count": null,
      "outputs": [
        {
          "output_type": "stream",
          "name": "stdout",
          "text": [
            "---------------------------\n",
            "Train Accuracy: 1.0 Test Accuracy: 1.0\n"
          ]
        }
      ]
    },
    {
      "cell_type": "markdown",
      "source": [
        "Both of the classifiers predicted correctly for the majority of the classes. It might be thanks to extracting useful features and also smoothness of the synthetic dataset "
      ],
      "metadata": {
        "id": "TQrwPXY2M-Zm"
      }
    },
    {
      "cell_type": "markdown",
      "source": [
        "## 2.b)\n"
      ],
      "metadata": {
        "id": "H_qZtvDt-xq8"
      }
    },
    {
      "cell_type": "markdown",
      "source": [
        "Conditional independence does not hold for this case since each pixel is dependent on each other. There is a rotation in each image and the angle defines which pixel stands near which one. Hence, the values of $x_i$ are not conditionally independent.\n",
        "\n",
        "Besides, the probability of a pixel with a specific value is dependent to pixels that are near to it. Also, we extracted additional features which are the same image with horizontal and vertical filters so it is dependent to the original image, because they are simply the same image with an additional convolutional filter."
      ],
      "metadata": {
        "id": "nqwcmoSQ_CFR"
      }
    },
    {
      "cell_type": "markdown",
      "source": [
        "## 2.c)"
      ],
      "metadata": {
        "id": "q1PQuhuV_SQG"
      }
    },
    {
      "cell_type": "markdown",
      "source": [
        "The formula for with and without conditional independence assumption is $2d(k-1)$ and  $2(k^d-1)$. Here, $k=15$ and $d=1536$. \n",
        "\n",
        "* With conditional independence: $ 2\\cdot 1536 \\cdot 14$ parameters to estimate.\n",
        "\n",
        "* Without conditional independence: $ 2\\cdot (15^{1536} - 1) $ parameters to estimate. \n",
        "\n",
        "As one can see, there is a significant gap between the amount of parameters to be estimated and without the conditional independence assumption, it is challenging to train a model. "
      ],
      "metadata": {
        "id": "48_OESKT_Tqm"
      }
    },
    {
      "cell_type": "markdown",
      "source": [
        "# References\n",
        "- https://scikit-learn.org/stable/modules/generated/sklearn.naive_bayes.MultinomialNB.html\n",
        "- https://www.kaggle.com/code/vitorgamalemos/multinomial-logistic-regression-from-scratch/notebook\n",
        "- https://www.kaggle.com/code/residentmario/soft-thresholding-with-lasso-regression/notebook\n",
        "- https://deepnotes.io/softmax-crossentropy"
      ],
      "metadata": {
        "id": "8TtqHaXeOo6l"
      }
    }
  ]
}